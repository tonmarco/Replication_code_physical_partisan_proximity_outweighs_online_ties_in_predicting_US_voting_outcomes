{
 "cells": [
  {
   "cell_type": "code",
   "execution_count": 1,
   "metadata": {},
   "outputs": [],
   "source": [
    "import pandas as pd\n",
    "import numpy as np\n",
    "import geopandas as gpd\n",
    "import matplotlib.pyplot as plt\n",
    "import seaborn as sns\n",
    "\n",
    "from sklearn import preprocessing\n",
    "from sklearn.model_selection import train_test_split\n",
    "from sklearn.linear_model import ElasticNetCV\n",
    "from sklearn.preprocessing import StandardScaler\n",
    "from sklearn.metrics import mean_squared_error, r2_score\n",
    "from sklearn.preprocessing import MinMaxScaler\n",
    "\n",
    "%matplotlib inline\n",
    "%config InlineBackend.figure_format='retina' \n",
    "\n",
    "import warnings\n",
    "warnings.filterwarnings(\"ignore\")"
   ]
  },
  {
   "cell_type": "code",
   "execution_count": 2,
   "metadata": {},
   "outputs": [],
   "source": [
    "# code for the font from https://github.com/scentellegher/code_snippets/blob/d6e3a65b0c4e715d982466f77d94c4f8b0827b38/matplotlib_font/Matplotlib_custom_font.ipynb\n",
    "\n",
    "from matplotlib import font_manager\n",
    "\n",
    "font_dirs = ['font/']\n",
    "font_files = font_manager.findSystemFonts(fontpaths=font_dirs)\n",
    "\n",
    "for font_file in font_files:\n",
    "    font_manager.fontManager.addfont(font_file)\n",
    "\n",
    "# set font\n",
    "plt.rcParams['font.family'] = 'Barlow'"
   ]
  },
  {
   "cell_type": "markdown",
   "metadata": {},
   "source": [
    "### DATA"
   ]
  },
  {
   "cell_type": "code",
   "execution_count": 3,
   "metadata": {},
   "outputs": [],
   "source": [
    "# import data\n",
    "\n",
    "df = pd.read_csv('./data/county_data.csv',  dtype = {'fips' : 'str', 'rucc_grouped' : 'str', 'RUCC_2013' : 'str'})"
   ]
  },
  {
   "cell_type": "markdown",
   "metadata": {},
   "source": [
    "## MODELS"
   ]
  },
  {
   "cell_type": "code",
   "execution_count": 4,
   "metadata": {},
   "outputs": [],
   "source": [
    "X_rep = df[['proximity_rep_coloc', 'proximity_rep_sci', 'proximity_rep_res', 'perc_latino_hispanic', 'perc_african_american', 'perc_unemployed', 'perc_graduated', 'perc_urban_pop']]\n",
    "\n",
    "X_dem = df[['proximity_dem_coloc','proximity_dem_sci', 'proximity_dem_res', 'perc_latino_hispanic', 'perc_african_american', 'perc_unemployed', 'perc_graduated', 'perc_urban_pop']]\n",
    "\n",
    "y_rep = df['perc_nv_rep']\n",
    "y_dem = df['perc_nv_dem']"
   ]
  },
  {
   "cell_type": "markdown",
   "metadata": {},
   "source": [
    "### REPUBLICANS"
   ]
  },
  {
   "cell_type": "code",
   "execution_count": 5,
   "metadata": {},
   "outputs": [
    {
     "name": "stdout",
     "output_type": "stream",
     "text": [
      "Best alpha: 1e-05\n",
      "Best l1_ratio: 0.1\n",
      "ElasticNetCV(alphas=[0, 1e-10, 1e-09, 1e-08, 1e-07, 1e-06, 1e-05, 0.0001, 0.001,\n",
      "                     0.01, 0.05, 0.1, 0.2, 0.5, 1],\n",
      "             cv=5, l1_ratio=[0.1, 0.5, 0.7, 0.9, 0.95, 0.99, 1]) -- Mean Squared Error: 0.0007123236330253612 -- r2: 0.9711250052858833\n"
     ]
    }
   ],
   "source": [
    "X_train, X_test, y_train, y_test = train_test_split(X_rep, y_rep, test_size=0.3, random_state=42)\n",
    "\n",
    "\n",
    "alphas = [0, 1e-10, 1e-9, 1e-8, 1e-7, 1e-6, 1e-5, 1e-4, 1e-3, 1e-2, 0.05, 1e-1, 0.2, 0.5, 1]\n",
    "\n",
    "l1_ratios = [.1, .5, .7, .9, .95, .99, 1]\n",
    "\n",
    "elasticnet_cv = ElasticNetCV(alphas=alphas, l1_ratio=l1_ratios, cv=5)\n",
    "\n",
    "elasticnet_cv.fit(X_train, y_train)\n",
    "\n",
    "# best hyperparameters\n",
    "print(\"Best alpha:\", elasticnet_cv.alpha_)\n",
    "print(\"Best l1_ratio:\", elasticnet_cv.l1_ratio_)\n",
    "\n",
    "y_pred = elasticnet_cv.predict(X_test)\n",
    "\n",
    "# Evaluate the model performance\n",
    "mse = mean_squared_error(y_test, y_pred)\n",
    "r2 = r2_score(y_test, y_pred)\n",
    "\n",
    "print(f'{elasticnet_cv} -- Mean Squared Error: {mse} -- r2: {r2}')"
   ]
  },
  {
   "cell_type": "code",
   "execution_count": 6,
   "metadata": {},
   "outputs": [
    {
     "data": {
      "text/plain": [
       "array([ 1.08186333, -0.18019839,  0.09060427, -0.00575716, -0.03099309,\n",
       "        0.01173719, -0.05391006, -0.00997137])"
      ]
     },
     "execution_count": 6,
     "metadata": {},
     "output_type": "execute_result"
    }
   ],
   "source": [
    "# beta coefficients\n",
    "\n",
    "elasticnet_cv.coef_"
   ]
  },
  {
   "cell_type": "markdown",
   "metadata": {},
   "source": [
    "### DEMOCRATS"
   ]
  },
  {
   "cell_type": "code",
   "execution_count": 7,
   "metadata": {},
   "outputs": [
    {
     "name": "stdout",
     "output_type": "stream",
     "text": [
      "Best alpha: 1e-05\n",
      "Best l1_ratio: 0.1\n",
      "ElasticNetCV(alphas=[0, 1e-10, 1e-09, 1e-08, 1e-07, 1e-06, 1e-05, 0.0001, 0.001,\n",
      "                     0.01, 0.05, 0.1, 0.2, 0.5, 1],\n",
      "             cv=5, l1_ratio=[0.1, 0.5, 0.7, 0.9, 0.95, 0.99, 1]) -- Mean Squared Error: 0.0007081544447812315 -- r2: 0.9708775518283517\n"
     ]
    }
   ],
   "source": [
    "\n",
    "X_train, X_test, y_train, y_test = train_test_split(X_dem, y_dem, test_size=0.3, random_state=42)\n",
    "\n",
    "\n",
    "alphas = [0, 1e-10, 1e-9, 1e-8, 1e-7, 1e-6, 1e-5, 1e-4, 1e-3, 1e-2, 0.05, 1e-1, 0.2, 0.5, 1]\n",
    "l1_ratios = [.1, .5, .7, .9, .95, .99, 1]\n",
    "\n",
    "elasticnet_cv = ElasticNetCV(alphas=alphas, l1_ratio=l1_ratios, cv=5)\n",
    "\n",
    "elasticnet_cv.fit(X_train, y_train)\n",
    "\n",
    "# best hyperparameters\n",
    "print(\"Best alpha:\", elasticnet_cv.alpha_)\n",
    "print(\"Best l1_ratio:\", elasticnet_cv.l1_ratio_)\n",
    "\n",
    "y_pred = elasticnet_cv.predict(X_test)\n",
    "\n",
    "# Evaluate the model performance\n",
    "mse = mean_squared_error(y_test, y_pred)\n",
    "r2 = r2_score(y_test, y_pred)\n",
    "\n",
    "print(f'{elasticnet_cv} -- Mean Squared Error: {mse} -- r2: {r2}')\n"
   ]
  },
  {
   "cell_type": "code",
   "execution_count": 8,
   "metadata": {},
   "outputs": [
    {
     "data": {
      "text/plain": [
       "array([ 1.15779242, -0.21849417,  0.06245063, -0.00274884,  0.0322112 ,\n",
       "       -0.00804908,  0.05364218,  0.01893531])"
      ]
     },
     "execution_count": 8,
     "metadata": {},
     "output_type": "execute_result"
    }
   ],
   "source": [
    "# beta coefficients\n",
    "\n",
    "elasticnet_cv.coef_"
   ]
  }
 ],
 "metadata": {
  "kernelspec": {
   "display_name": "skmob",
   "language": "python",
   "name": "python3"
  },
  "language_info": {
   "codemirror_mode": {
    "name": "ipython",
    "version": 3
   },
   "file_extension": ".py",
   "mimetype": "text/x-python",
   "name": "python",
   "nbconvert_exporter": "python",
   "pygments_lexer": "ipython3",
   "version": "3.7.16"
  }
 },
 "nbformat": 4,
 "nbformat_minor": 2
}
