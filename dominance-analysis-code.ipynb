{
 "cells": [
  {
   "cell_type": "code",
   "execution_count": 1,
   "metadata": {},
   "outputs": [
    {
     "data": {
      "text/html": [
       "<div class=\"bk-root\">\n",
       "        <a href=\"https://bokeh.org\" target=\"_blank\" class=\"bk-logo bk-logo-small bk-logo-notebook\"></a>\n",
       "        <span id=\"1002\">Loading BokehJS ...</span>\n",
       "    </div>\n"
      ]
     },
     "metadata": {},
     "output_type": "display_data"
    },
    {
     "data": {
      "application/javascript": "(function(root) {\n  function now() {\n    return new Date();\n  }\n\n  const force = true;\n\n  if (typeof root._bokeh_onload_callbacks === \"undefined\" || force === true) {\n    root._bokeh_onload_callbacks = [];\n    root._bokeh_is_loading = undefined;\n  }\n\nconst JS_MIME_TYPE = 'application/javascript';\n  const HTML_MIME_TYPE = 'text/html';\n  const EXEC_MIME_TYPE = 'application/vnd.bokehjs_exec.v0+json';\n  const CLASS_NAME = 'output_bokeh rendered_html';\n\n  /**\n   * Render data to the DOM node\n   */\n  function render(props, node) {\n    const script = document.createElement(\"script\");\n    node.appendChild(script);\n  }\n\n  /**\n   * Handle when an output is cleared or removed\n   */\n  function handleClearOutput(event, handle) {\n    const cell = handle.cell;\n\n    const id = cell.output_area._bokeh_element_id;\n    const server_id = cell.output_area._bokeh_server_id;\n    // Clean up Bokeh references\n    if (id != null && id in Bokeh.index) {\n      Bokeh.index[id].model.document.clear();\n      delete Bokeh.index[id];\n    }\n\n    if (server_id !== undefined) {\n      // Clean up Bokeh references\n      const cmd_clean = \"from bokeh.io.state import curstate; print(curstate().uuid_to_server['\" + server_id + \"'].get_sessions()[0].document.roots[0]._id)\";\n      cell.notebook.kernel.execute(cmd_clean, {\n        iopub: {\n          output: function(msg) {\n            const id = msg.content.text.trim();\n            if (id in Bokeh.index) {\n              Bokeh.index[id].model.document.clear();\n              delete Bokeh.index[id];\n            }\n          }\n        }\n      });\n      // Destroy server and session\n      const cmd_destroy = \"import bokeh.io.notebook as ion; ion.destroy_server('\" + server_id + \"')\";\n      cell.notebook.kernel.execute(cmd_destroy);\n    }\n  }\n\n  /**\n   * Handle when a new output is added\n   */\n  function handleAddOutput(event, handle) {\n    const output_area = handle.output_area;\n    const output = handle.output;\n\n    // limit handleAddOutput to display_data with EXEC_MIME_TYPE content only\n    if ((output.output_type != \"display_data\") || (!Object.prototype.hasOwnProperty.call(output.data, EXEC_MIME_TYPE))) {\n      return\n    }\n\n    const toinsert = output_area.element.find(\".\" + CLASS_NAME.split(' ')[0]);\n\n    if (output.metadata[EXEC_MIME_TYPE][\"id\"] !== undefined) {\n      toinsert[toinsert.length - 1].firstChild.textContent = output.data[JS_MIME_TYPE];\n      // store reference to embed id on output_area\n      output_area._bokeh_element_id = output.metadata[EXEC_MIME_TYPE][\"id\"];\n    }\n    if (output.metadata[EXEC_MIME_TYPE][\"server_id\"] !== undefined) {\n      const bk_div = document.createElement(\"div\");\n      bk_div.innerHTML = output.data[HTML_MIME_TYPE];\n      const script_attrs = bk_div.children[0].attributes;\n      for (let i = 0; i < script_attrs.length; i++) {\n        toinsert[toinsert.length - 1].firstChild.setAttribute(script_attrs[i].name, script_attrs[i].value);\n        toinsert[toinsert.length - 1].firstChild.textContent = bk_div.children[0].textContent\n      }\n      // store reference to server id on output_area\n      output_area._bokeh_server_id = output.metadata[EXEC_MIME_TYPE][\"server_id\"];\n    }\n  }\n\n  function register_renderer(events, OutputArea) {\n\n    function append_mime(data, metadata, element) {\n      // create a DOM node to render to\n      const toinsert = this.create_output_subarea(\n        metadata,\n        CLASS_NAME,\n        EXEC_MIME_TYPE\n      );\n      this.keyboard_manager.register_events(toinsert);\n      // Render to node\n      const props = {data: data, metadata: metadata[EXEC_MIME_TYPE]};\n      render(props, toinsert[toinsert.length - 1]);\n      element.append(toinsert);\n      return toinsert\n    }\n\n    /* Handle when an output is cleared or removed */\n    events.on('clear_output.CodeCell', handleClearOutput);\n    events.on('delete.Cell', handleClearOutput);\n\n    /* Handle when a new output is added */\n    events.on('output_added.OutputArea', handleAddOutput);\n\n    /**\n     * Register the mime type and append_mime function with output_area\n     */\n    OutputArea.prototype.register_mime_type(EXEC_MIME_TYPE, append_mime, {\n      /* Is output safe? */\n      safe: true,\n      /* Index of renderer in `output_area.display_order` */\n      index: 0\n    });\n  }\n\n  // register the mime type if in Jupyter Notebook environment and previously unregistered\n  if (root.Jupyter !== undefined) {\n    const events = require('base/js/events');\n    const OutputArea = require('notebook/js/outputarea').OutputArea;\n\n    if (OutputArea.prototype.mime_types().indexOf(EXEC_MIME_TYPE) == -1) {\n      register_renderer(events, OutputArea);\n    }\n  }\n  if (typeof (root._bokeh_timeout) === \"undefined\" || force === true) {\n    root._bokeh_timeout = Date.now() + 5000;\n    root._bokeh_failed_load = false;\n  }\n\n  const NB_LOAD_WARNING = {'data': {'text/html':\n     \"<div style='background-color: #fdd'>\\n\"+\n     \"<p>\\n\"+\n     \"BokehJS does not appear to have successfully loaded. If loading BokehJS from CDN, this \\n\"+\n     \"may be due to a slow or bad network connection. Possible fixes:\\n\"+\n     \"</p>\\n\"+\n     \"<ul>\\n\"+\n     \"<li>re-rerun `output_notebook()` to attempt to load from CDN again, or</li>\\n\"+\n     \"<li>use INLINE resources instead, as so:</li>\\n\"+\n     \"</ul>\\n\"+\n     \"<code>\\n\"+\n     \"from bokeh.resources import INLINE\\n\"+\n     \"output_notebook(resources=INLINE)\\n\"+\n     \"</code>\\n\"+\n     \"</div>\"}};\n\n  function display_loaded() {\n    const el = document.getElementById(\"1002\");\n    if (el != null) {\n      el.textContent = \"BokehJS is loading...\";\n    }\n    if (root.Bokeh !== undefined) {\n      if (el != null) {\n        el.textContent = \"BokehJS \" + root.Bokeh.version + \" successfully loaded.\";\n      }\n    } else if (Date.now() < root._bokeh_timeout) {\n      setTimeout(display_loaded, 100)\n    }\n  }\n\n  function run_callbacks() {\n    try {\n      root._bokeh_onload_callbacks.forEach(function(callback) {\n        if (callback != null)\n          callback();\n      });\n    } finally {\n      delete root._bokeh_onload_callbacks\n    }\n    console.debug(\"Bokeh: all callbacks have finished\");\n  }\n\n  function load_libs(css_urls, js_urls, callback) {\n    if (css_urls == null) css_urls = [];\n    if (js_urls == null) js_urls = [];\n\n    root._bokeh_onload_callbacks.push(callback);\n    if (root._bokeh_is_loading > 0) {\n      console.debug(\"Bokeh: BokehJS is being loaded, scheduling callback at\", now());\n      return null;\n    }\n    if (js_urls == null || js_urls.length === 0) {\n      run_callbacks();\n      return null;\n    }\n    console.debug(\"Bokeh: BokehJS not loaded, scheduling load and callback at\", now());\n    root._bokeh_is_loading = css_urls.length + js_urls.length;\n\n    function on_load() {\n      root._bokeh_is_loading--;\n      if (root._bokeh_is_loading === 0) {\n        console.debug(\"Bokeh: all BokehJS libraries/stylesheets loaded\");\n        run_callbacks()\n      }\n    }\n\n    function on_error(url) {\n      console.error(\"failed to load \" + url);\n    }\n\n    for (let i = 0; i < css_urls.length; i++) {\n      const url = css_urls[i];\n      const element = document.createElement(\"link\");\n      element.onload = on_load;\n      element.onerror = on_error.bind(null, url);\n      element.rel = \"stylesheet\";\n      element.type = \"text/css\";\n      element.href = url;\n      console.debug(\"Bokeh: injecting link tag for BokehJS stylesheet: \", url);\n      document.body.appendChild(element);\n    }\n\n    for (let i = 0; i < js_urls.length; i++) {\n      const url = js_urls[i];\n      const element = document.createElement('script');\n      element.onload = on_load;\n      element.onerror = on_error.bind(null, url);\n      element.async = false;\n      element.src = url;\n      console.debug(\"Bokeh: injecting script tag for BokehJS library: \", url);\n      document.head.appendChild(element);\n    }\n  };\n\n  function inject_raw_css(css) {\n    const element = document.createElement(\"style\");\n    element.appendChild(document.createTextNode(css));\n    document.body.appendChild(element);\n  }\n\n  const js_urls = [\"https://cdn.bokeh.org/bokeh/release/bokeh-2.4.3.min.js\", \"https://cdn.bokeh.org/bokeh/release/bokeh-gl-2.4.3.min.js\", \"https://cdn.bokeh.org/bokeh/release/bokeh-widgets-2.4.3.min.js\", \"https://cdn.bokeh.org/bokeh/release/bokeh-tables-2.4.3.min.js\", \"https://cdn.bokeh.org/bokeh/release/bokeh-mathjax-2.4.3.min.js\"];\n  const css_urls = [];\n\n  const inline_js = [    function(Bokeh) {\n      Bokeh.set_log_level(\"info\");\n    },\nfunction(Bokeh) {\n    }\n  ];\n\n  function run_inline_js() {\n    if (root.Bokeh !== undefined || force === true) {\n          for (let i = 0; i < inline_js.length; i++) {\n      inline_js[i].call(root, root.Bokeh);\n    }\nif (force === true) {\n        display_loaded();\n      }} else if (Date.now() < root._bokeh_timeout) {\n      setTimeout(run_inline_js, 100);\n    } else if (!root._bokeh_failed_load) {\n      console.log(\"Bokeh: BokehJS failed to load within specified timeout.\");\n      root._bokeh_failed_load = true;\n    } else if (force !== true) {\n      const cell = $(document.getElementById(\"1002\")).parents('.cell').data().cell;\n      cell.output_area.append_execute_result(NB_LOAD_WARNING)\n    }\n  }\n\n  if (root._bokeh_is_loading === 0) {\n    console.debug(\"Bokeh: BokehJS loaded, going straight to plotting\");\n    run_inline_js();\n  } else {\n    load_libs(css_urls, js_urls, function() {\n      console.debug(\"Bokeh: BokehJS plotting callback run at\", now());\n      run_inline_js();\n    });\n  }\n}(window));",
      "application/vnd.bokehjs_load.v0+json": ""
     },
     "metadata": {},
     "output_type": "display_data"
    },
    {
     "data": {
      "text/html": [
       "        <script type=\"text/javascript\">\n",
       "        window.PlotlyConfig = {MathJaxConfig: 'local'};\n",
       "        if (window.MathJax && window.MathJax.Hub && window.MathJax.Hub.Config) {window.MathJax.Hub.Config({SVG: {font: \"STIX-Web\"}});}\n",
       "        if (typeof require !== 'undefined') {\n",
       "        require.undef(\"plotly\");\n",
       "        requirejs.config({\n",
       "            paths: {\n",
       "                'plotly': ['https://cdn.plot.ly/plotly-2.27.0.min']\n",
       "            }\n",
       "        });\n",
       "        require(['plotly'], function(Plotly) {\n",
       "            window._Plotly = Plotly;\n",
       "        });\n",
       "        }\n",
       "        </script>\n",
       "        "
      ]
     },
     "metadata": {},
     "output_type": "display_data"
    }
   ],
   "source": [
    "import pandas as pd\n",
    "import numpy as np\n",
    "import geopandas as gpd\n",
    "import matplotlib.pyplot as plt\n",
    "import seaborn as sns\n",
    "\n",
    "from dominance_analysis import Dominance\n",
    "\n",
    "%matplotlib inline\n",
    "%config InlineBackend.figure_format='retina' "
   ]
  },
  {
   "cell_type": "code",
   "execution_count": 2,
   "metadata": {},
   "outputs": [],
   "source": [
    "# code for the font from https://github.com/scentellegher/code_snippets/blob/d6e3a65b0c4e715d982466f77d94c4f8b0827b38/matplotlib_font/Matplotlib_custom_font.ipynb\n",
    "\n",
    "from matplotlib import font_manager\n",
    "\n",
    "font_dirs = ['font/']\n",
    "font_files = font_manager.findSystemFonts(fontpaths=font_dirs)\n",
    "\n",
    "for font_file in font_files:\n",
    "    font_manager.fontManager.addfont(font_file)\n",
    "\n",
    "# set font\n",
    "plt.rcParams['font.family'] = 'Barlow'"
   ]
  },
  {
   "cell_type": "code",
   "execution_count": 3,
   "metadata": {},
   "outputs": [],
   "source": [
    "# import data\n",
    "\n",
    "df = pd.read_csv('./data/county_data.csv',  dtype = {'fips' : 'str', 'rucc_grouped' : 'str', 'RUCC_2013' : 'str'})"
   ]
  },
  {
   "cell_type": "code",
   "execution_count": 4,
   "metadata": {},
   "outputs": [],
   "source": [
    "# transform the variables in 0-100 scale\n",
    "\n",
    "df['perc_nv_rep'] = df['perc_nv_rep'] * 100\n",
    "df['perc_nv_dem'] = df['perc_nv_dem'] * 100\n",
    "\n",
    "df['proximity_rep_coloc'] = df['proximity_rep_coloc'] * 100\n",
    "df['proximity_dem_coloc'] = df['proximity_dem_coloc'] * 100\n",
    "\n",
    "df['proximity_rep_sci'] = df['proximity_rep_sci'] * 100\n",
    "df['proximity_dem_sci'] = df['proximity_dem_sci'] * 100\n",
    "\n",
    "df['proximity_rep_comm'] = df['proximity_rep_comm'] * 100\n",
    "df['proximity_dem_comm'] = df['proximity_dem_comm'] * 100\n",
    "\n",
    "df['proximity_rep_res'] = df['proximity_rep_res'] * 100\n",
    "df['proximity_dem_res'] = df['proximity_dem_res'] * 100\n",
    "\n",
    "\n",
    "df['perc_african_american'] = df['perc_african_american'] * 100\n",
    "df['perc_latino_hispanic'] = df['perc_latino_hispanic'] * 100\n",
    "df['perc_unemployed'] = df['perc_unemployed'] * 100\n",
    "df['perc_graduated'] = df['perc_graduated'] * 100\n",
    "df['perc_urban_pop'] = df['perc_urban_pop'] * 100\n"
   ]
  },
  {
   "cell_type": "code",
   "execution_count": 5,
   "metadata": {},
   "outputs": [],
   "source": [
    "# df subsets for each partisanship\n",
    "\n",
    "df_rep = df[['proximity_rep_coloc', 'proximity_rep_sci', 'proximity_rep_res', 'perc_latino_hispanic', 'perc_african_american', 'perc_unemployed', 'perc_graduated', 'perc_urban_pop', 'perc_nv_rep']]\n",
    "\n",
    "df_dem = df[['proximity_dem_coloc', 'proximity_dem_sci', 'proximity_dem_res', 'perc_latino_hispanic', 'perc_african_american', 'perc_unemployed', 'perc_graduated', 'perc_urban_pop', 'perc_nv_dem']]"
   ]
  },
  {
   "cell_type": "markdown",
   "metadata": {},
   "source": [
    "### DOMINANCE ANALYSIS - REPUBLICAN DATAFRAME"
   ]
  },
  {
   "cell_type": "code",
   "execution_count": 6,
   "metadata": {},
   "outputs": [
    {
     "name": "stdout",
     "output_type": "stream",
     "text": [
      "Selecting 8 Best Predictors for the Model\n",
      "Selected Predictors :  ['proximity_rep_coloc', 'proximity_rep_sci', 'proximity_rep_res', 'perc_latino_hispanic', 'perc_african_american', 'perc_unemployed', 'perc_graduated', 'perc_urban_pop']\n",
      "\n",
      "********************  R-Squared of Complete Model :  ********************\n",
      "R Squared : 0.9709800752142294\n",
      "\n",
      "Selecting 8 Best Predictors for the Model\n",
      "Selected Predictors :  ['proximity_rep_coloc', 'proximity_rep_sci', 'proximity_rep_res', 'perc_latino_hispanic', 'perc_african_american', 'perc_unemployed', 'perc_graduated', 'perc_urban_pop']\n",
      "\n",
      "Creating models for 255 possible combinations of 8 features :\n"
     ]
    },
    {
     "name": "stderr",
     "output_type": "stream",
     "text": [
      "100%|██████████| 8/8 [00:00<00:00, 10.11it/s]\n"
     ]
    },
    {
     "name": "stdout",
     "output_type": "stream",
     "text": [
      "#########################  Model Training Done!!!!!  #########################\n",
      "\n",
      "#########################  Calculating Variable Dominances  #########################\n"
     ]
    },
    {
     "name": "stderr",
     "output_type": "stream",
     "text": [
      "100%|██████████| 7/7 [00:00<00:00, 267.25it/s]"
     ]
    },
    {
     "name": "stdout",
     "output_type": "stream",
     "text": [
      "#########################  Variable Dominance Calculation Done!!!!!  #########################\n",
      "\n"
     ]
    },
    {
     "name": "stderr",
     "output_type": "stream",
     "text": [
      "\n"
     ]
    },
    {
     "data": {
      "text/plain": [
       "{'proximity_rep_coloc': 0.34263137446891145,\n",
       " 'proximity_rep_sci': 0.2663868224997226,\n",
       " 'proximity_rep_res': 0.19524402861427587,\n",
       " 'perc_latino_hispanic': 0.004883481465258842,\n",
       " 'perc_african_american': 0.04285136367130393,\n",
       " 'perc_unemployed': 0.016049194762860736,\n",
       " 'perc_graduated': 0.05640392085687378,\n",
       " 'perc_urban_pop': 0.0465298888750221}"
      ]
     },
     "execution_count": 6,
     "metadata": {},
     "output_type": "execute_result"
    }
   ],
   "source": [
    "dominance_rep = Dominance(data=df_rep, target='perc_nv_rep')\n",
    "dominance_rep.incremental_rsquare()"
   ]
  },
  {
   "cell_type": "code",
   "execution_count": 7,
   "metadata": {},
   "outputs": [
    {
     "data": {
      "text/html": [
       "<div>\n",
       "<style scoped>\n",
       "    .dataframe tbody tr th:only-of-type {\n",
       "        vertical-align: middle;\n",
       "    }\n",
       "\n",
       "    .dataframe tbody tr th {\n",
       "        vertical-align: top;\n",
       "    }\n",
       "\n",
       "    .dataframe thead th {\n",
       "        text-align: right;\n",
       "    }\n",
       "</style>\n",
       "<table border=\"1\" class=\"dataframe\">\n",
       "  <thead>\n",
       "    <tr style=\"text-align: right;\">\n",
       "      <th></th>\n",
       "      <th>Interactional Dominance</th>\n",
       "      <th>Individual Dominance</th>\n",
       "      <th>Average Partial Dominance</th>\n",
       "      <th>Total Dominance</th>\n",
       "      <th>Percentage Relative Importance</th>\n",
       "    </tr>\n",
       "  </thead>\n",
       "  <tbody>\n",
       "    <tr>\n",
       "      <th>proximity_rep_coloc</th>\n",
       "      <td>0.052839</td>\n",
       "      <td>0.962836</td>\n",
       "      <td>0.287563</td>\n",
       "      <td>0.342631</td>\n",
       "      <td>35.287168</td>\n",
       "    </tr>\n",
       "    <tr>\n",
       "      <th>proximity_rep_sci</th>\n",
       "      <td>0.00135</td>\n",
       "      <td>0.853889</td>\n",
       "      <td>0.212643</td>\n",
       "      <td>0.266387</td>\n",
       "      <td>27.434839</td>\n",
       "    </tr>\n",
       "    <tr>\n",
       "      <th>proximity_rep_res</th>\n",
       "      <td>0.002551</td>\n",
       "      <td>0.697881</td>\n",
       "      <td>0.143587</td>\n",
       "      <td>0.195244</td>\n",
       "      <td>20.107934</td>\n",
       "    </tr>\n",
       "    <tr>\n",
       "      <th>perc_graduated</th>\n",
       "      <td>0.00048</td>\n",
       "      <td>0.209583</td>\n",
       "      <td>0.040195</td>\n",
       "      <td>0.056404</td>\n",
       "      <td>5.808968</td>\n",
       "    </tr>\n",
       "    <tr>\n",
       "      <th>perc_urban_pop</th>\n",
       "      <td>0.000277</td>\n",
       "      <td>0.213559</td>\n",
       "      <td>0.026400</td>\n",
       "      <td>0.04653</td>\n",
       "      <td>4.792054</td>\n",
       "    </tr>\n",
       "    <tr>\n",
       "      <th>perc_african_american</th>\n",
       "      <td>0.000844</td>\n",
       "      <td>0.176048</td>\n",
       "      <td>0.027653</td>\n",
       "      <td>0.042851</td>\n",
       "      <td>4.413207</td>\n",
       "    </tr>\n",
       "    <tr>\n",
       "      <th>perc_unemployed</th>\n",
       "      <td>0.000015</td>\n",
       "      <td>0.063053</td>\n",
       "      <td>0.010888</td>\n",
       "      <td>0.016049</td>\n",
       "      <td>1.652886</td>\n",
       "    </tr>\n",
       "    <tr>\n",
       "      <th>perc_latino_hispanic</th>\n",
       "      <td>0.000033</td>\n",
       "      <td>0.017231</td>\n",
       "      <td>0.003634</td>\n",
       "      <td>0.004883</td>\n",
       "      <td>0.502944</td>\n",
       "    </tr>\n",
       "  </tbody>\n",
       "</table>\n",
       "</div>"
      ],
      "text/plain": [
       "                      Interactional Dominance Individual Dominance  \\\n",
       "proximity_rep_coloc                  0.052839             0.962836   \n",
       "proximity_rep_sci                     0.00135             0.853889   \n",
       "proximity_rep_res                    0.002551             0.697881   \n",
       "perc_graduated                        0.00048             0.209583   \n",
       "perc_urban_pop                       0.000277             0.213559   \n",
       "perc_african_american                0.000844             0.176048   \n",
       "perc_unemployed                      0.000015             0.063053   \n",
       "perc_latino_hispanic                 0.000033             0.017231   \n",
       "\n",
       "                       Average Partial Dominance Total Dominance  \\\n",
       "proximity_rep_coloc                     0.287563        0.342631   \n",
       "proximity_rep_sci                       0.212643        0.266387   \n",
       "proximity_rep_res                       0.143587        0.195244   \n",
       "perc_graduated                          0.040195        0.056404   \n",
       "perc_urban_pop                          0.026400         0.04653   \n",
       "perc_african_american                   0.027653        0.042851   \n",
       "perc_unemployed                         0.010888        0.016049   \n",
       "perc_latino_hispanic                    0.003634        0.004883   \n",
       "\n",
       "                      Percentage Relative Importance  \n",
       "proximity_rep_coloc                        35.287168  \n",
       "proximity_rep_sci                          27.434839  \n",
       "proximity_rep_res                          20.107934  \n",
       "perc_graduated                              5.808968  \n",
       "perc_urban_pop                              4.792054  \n",
       "perc_african_american                       4.413207  \n",
       "perc_unemployed                             1.652886  \n",
       "perc_latino_hispanic                        0.502944  "
      ]
     },
     "execution_count": 7,
     "metadata": {},
     "output_type": "execute_result"
    }
   ],
   "source": [
    "dominance_rep.dominance_stats()"
   ]
  },
  {
   "cell_type": "markdown",
   "metadata": {},
   "source": [
    "### DOMINANCE ANALYSIS - DEMOCRATIC DATAFRAME"
   ]
  },
  {
   "cell_type": "code",
   "execution_count": 8,
   "metadata": {},
   "outputs": [
    {
     "name": "stdout",
     "output_type": "stream",
     "text": [
      "Selecting 8 Best Predictors for the Model\n",
      "Selected Predictors :  ['proximity_dem_coloc', 'proximity_dem_sci', 'proximity_dem_res', 'perc_latino_hispanic', 'perc_african_american', 'perc_unemployed', 'perc_graduated', 'perc_urban_pop']\n",
      "\n",
      "********************  R-Squared of Complete Model :  ********************\n",
      "R Squared : 0.9683636502620686\n",
      "\n",
      "Selecting 8 Best Predictors for the Model\n",
      "Selected Predictors :  ['proximity_dem_coloc', 'proximity_dem_sci', 'proximity_dem_res', 'perc_latino_hispanic', 'perc_african_american', 'perc_unemployed', 'perc_graduated', 'perc_urban_pop']\n",
      "\n",
      "Creating models for 255 possible combinations of 8 features :\n"
     ]
    },
    {
     "name": "stderr",
     "output_type": "stream",
     "text": [
      "100%|██████████| 8/8 [00:00<00:00,  9.22it/s]\n"
     ]
    },
    {
     "name": "stdout",
     "output_type": "stream",
     "text": [
      "#########################  Model Training Done!!!!!  #########################\n",
      "\n",
      "#########################  Calculating Variable Dominances  #########################\n"
     ]
    },
    {
     "name": "stderr",
     "output_type": "stream",
     "text": [
      "100%|██████████| 7/7 [00:00<00:00, 353.61it/s]"
     ]
    },
    {
     "name": "stdout",
     "output_type": "stream",
     "text": [
      "#########################  Variable Dominance Calculation Done!!!!!  #########################\n",
      "\n"
     ]
    },
    {
     "name": "stderr",
     "output_type": "stream",
     "text": [
      "\n"
     ]
    },
    {
     "data": {
      "text/plain": [
       "{'proximity_dem_coloc': 0.3497798181776487,\n",
       " 'proximity_dem_sci': 0.285622957992417,\n",
       " 'proximity_dem_res': 0.1546952323747543,\n",
       " 'perc_latino_hispanic': 0.0048607644213211,\n",
       " 'perc_african_american': 0.05278237849305104,\n",
       " 'perc_unemployed': 0.018375402245521463,\n",
       " 'perc_graduated': 0.05356036790137811,\n",
       " 'perc_urban_pop': 0.048686728655976855}"
      ]
     },
     "execution_count": 8,
     "metadata": {},
     "output_type": "execute_result"
    }
   ],
   "source": [
    "dominance_dem = Dominance(data=df_dem, target='perc_nv_dem')\n",
    "dominance_dem.incremental_rsquare()"
   ]
  },
  {
   "cell_type": "code",
   "execution_count": 9,
   "metadata": {},
   "outputs": [
    {
     "data": {
      "text/html": [
       "<div>\n",
       "<style scoped>\n",
       "    .dataframe tbody tr th:only-of-type {\n",
       "        vertical-align: middle;\n",
       "    }\n",
       "\n",
       "    .dataframe tbody tr th {\n",
       "        vertical-align: top;\n",
       "    }\n",
       "\n",
       "    .dataframe thead th {\n",
       "        text-align: right;\n",
       "    }\n",
       "</style>\n",
       "<table border=\"1\" class=\"dataframe\">\n",
       "  <thead>\n",
       "    <tr style=\"text-align: right;\">\n",
       "      <th></th>\n",
       "      <th>Interactional Dominance</th>\n",
       "      <th>Individual Dominance</th>\n",
       "      <th>Average Partial Dominance</th>\n",
       "      <th>Total Dominance</th>\n",
       "      <th>Percentage Relative Importance</th>\n",
       "    </tr>\n",
       "  </thead>\n",
       "  <tbody>\n",
       "    <tr>\n",
       "      <th>proximity_dem_coloc</th>\n",
       "      <td>0.044584</td>\n",
       "      <td>0.959156</td>\n",
       "      <td>0.299083</td>\n",
       "      <td>0.34978</td>\n",
       "      <td>36.120709</td>\n",
       "    </tr>\n",
       "    <tr>\n",
       "      <th>proximity_dem_sci</th>\n",
       "      <td>0.001604</td>\n",
       "      <td>0.865488</td>\n",
       "      <td>0.236315</td>\n",
       "      <td>0.285623</td>\n",
       "      <td>29.495423</td>\n",
       "    </tr>\n",
       "    <tr>\n",
       "      <th>proximity_dem_res</th>\n",
       "      <td>0.001567</td>\n",
       "      <td>0.570881</td>\n",
       "      <td>0.110852</td>\n",
       "      <td>0.154695</td>\n",
       "      <td>15.974911</td>\n",
       "    </tr>\n",
       "    <tr>\n",
       "      <th>perc_graduated</th>\n",
       "      <td>0.000479</td>\n",
       "      <td>0.182337</td>\n",
       "      <td>0.040945</td>\n",
       "      <td>0.05356</td>\n",
       "      <td>5.531018</td>\n",
       "    </tr>\n",
       "    <tr>\n",
       "      <th>perc_african_american</th>\n",
       "      <td>0.000795</td>\n",
       "      <td>0.217876</td>\n",
       "      <td>0.033931</td>\n",
       "      <td>0.052782</td>\n",
       "      <td>5.450677</td>\n",
       "    </tr>\n",
       "    <tr>\n",
       "      <th>perc_urban_pop</th>\n",
       "      <td>0.000917</td>\n",
       "      <td>0.200255</td>\n",
       "      <td>0.031387</td>\n",
       "      <td>0.048687</td>\n",
       "      <td>5.027732</td>\n",
       "    </tr>\n",
       "    <tr>\n",
       "      <th>perc_unemployed</th>\n",
       "      <td>0.000012</td>\n",
       "      <td>0.074862</td>\n",
       "      <td>0.012022</td>\n",
       "      <td>0.018375</td>\n",
       "      <td>1.897572</td>\n",
       "    </tr>\n",
       "    <tr>\n",
       "      <th>perc_latino_hispanic</th>\n",
       "      <td>0.000011</td>\n",
       "      <td>0.017489</td>\n",
       "      <td>0.003564</td>\n",
       "      <td>0.004861</td>\n",
       "      <td>0.501957</td>\n",
       "    </tr>\n",
       "  </tbody>\n",
       "</table>\n",
       "</div>"
      ],
      "text/plain": [
       "                      Interactional Dominance Individual Dominance  \\\n",
       "proximity_dem_coloc                  0.044584             0.959156   \n",
       "proximity_dem_sci                    0.001604             0.865488   \n",
       "proximity_dem_res                    0.001567             0.570881   \n",
       "perc_graduated                       0.000479             0.182337   \n",
       "perc_african_american                0.000795             0.217876   \n",
       "perc_urban_pop                       0.000917             0.200255   \n",
       "perc_unemployed                      0.000012             0.074862   \n",
       "perc_latino_hispanic                 0.000011             0.017489   \n",
       "\n",
       "                       Average Partial Dominance Total Dominance  \\\n",
       "proximity_dem_coloc                     0.299083         0.34978   \n",
       "proximity_dem_sci                       0.236315        0.285623   \n",
       "proximity_dem_res                       0.110852        0.154695   \n",
       "perc_graduated                          0.040945         0.05356   \n",
       "perc_african_american                   0.033931        0.052782   \n",
       "perc_urban_pop                          0.031387        0.048687   \n",
       "perc_unemployed                         0.012022        0.018375   \n",
       "perc_latino_hispanic                    0.003564        0.004861   \n",
       "\n",
       "                      Percentage Relative Importance  \n",
       "proximity_dem_coloc                        36.120709  \n",
       "proximity_dem_sci                          29.495423  \n",
       "proximity_dem_res                          15.974911  \n",
       "perc_graduated                              5.531018  \n",
       "perc_african_american                       5.450677  \n",
       "perc_urban_pop                              5.027732  \n",
       "perc_unemployed                             1.897572  \n",
       "perc_latino_hispanic                        0.501957  "
      ]
     },
     "execution_count": 9,
     "metadata": {},
     "output_type": "execute_result"
    }
   ],
   "source": [
    "dominance_dem.dominance_stats()"
   ]
  },
  {
   "cell_type": "code",
   "execution_count": 10,
   "metadata": {},
   "outputs": [
    {
     "data": {
      "image/png": "[encoded data removed]",
      "text/plain": [
       "<Figure size 600x400 with 1 Axes>"
      ]
     },
     "metadata": {
      "image/png": {
       "height": 388,
       "width": 710
      }
     },
     "output_type": "display_data"
    }
   ],
   "source": [
    "list1 = [35.28716842035261, 27.434839220665694, 20.10793358156178]\n",
    "list2 = [36.12070920702028, 29.49542332729226, 15.974911112461632]\n",
    "index_values=['Offline Exposure', 'Online Exposure', 'Residential Exposure']\n",
    "\n",
    "# Reverse the order of values in each list\n",
    "list1 = list1[::-1]\n",
    "list2 = list2[::-1]\n",
    "index_values = index_values[::-1]\n",
    "\n",
    "# Calculate positions for the points\n",
    "positions_list1 = np.arange(len(index_values))\n",
    "positions_list2 = positions_list1 + 0.2  \n",
    "plt.figure(figsize=(6,4)) \n",
    "\n",
    "plt.scatter(list1, positions_list2, label='Exposure to Republican voters', color='crimson', marker='o', s=70, linewidth=1.5)\n",
    "plt.scatter(list2, positions_list1, label='Exposure to Democratic voters', color='royalblue', marker='o', s=70, linewidth=1.5)\n",
    "\n",
    "plt.grid(True, linestyle='--', alpha=0.2, axis='x')\n",
    "\n",
    "plt.xlim(7,40)\n",
    "\n",
    "plt.xlabel('Relative Importance (%)', size=18)\n",
    "plt.yticks(positions_list1 + 0.1, index_values, size=16)  \n",
    "plt.xticks(size=16)\n",
    "\n",
    "sns.despine()"
   ]
  },
  {
   "cell_type": "markdown",
   "metadata": {},
   "source": [
    "## METRO AND NON-METRO AREAS"
   ]
  },
  {
   "cell_type": "code",
   "execution_count": 11,
   "metadata": {},
   "outputs": [],
   "source": [
    "metro_areas = df[df['rucc_grouped'] == '1']\n",
    "nonmetro_areas = df[df['rucc_grouped'] != '1']\n",
    "\n",
    "metro_rep = metro_areas[['proximity_rep_coloc', 'proximity_rep_sci', 'proximity_rep_res', 'perc_latino_hispanic', 'perc_african_american', 'perc_unemployed', 'perc_graduated', 'perc_urban_pop', 'perc_nv_rep']]\n",
    "metro_dem = metro_areas[['proximity_dem_coloc', 'proximity_dem_sci', 'proximity_dem_res', 'perc_latino_hispanic', 'perc_african_american', 'perc_unemployed', 'perc_graduated', 'perc_urban_pop', 'perc_nv_dem']]\n",
    "\n",
    "nonmetro_rep = nonmetro_areas[['proximity_rep_coloc', 'proximity_rep_sci', 'proximity_rep_res', 'perc_latino_hispanic', 'perc_african_american', 'perc_unemployed', 'perc_graduated', 'perc_urban_pop', 'perc_nv_rep']]\n",
    "nonmetro_dem = nonmetro_areas[['proximity_dem_coloc', 'proximity_dem_sci', 'proximity_dem_res', 'perc_latino_hispanic', 'perc_african_american', 'perc_unemployed', 'perc_graduated', 'perc_urban_pop', 'perc_nv_dem']]"
   ]
  },
  {
   "cell_type": "markdown",
   "metadata": {},
   "source": [
    "### METRO"
   ]
  },
  {
   "cell_type": "code",
   "execution_count": 12,
   "metadata": {},
   "outputs": [
    {
     "name": "stdout",
     "output_type": "stream",
     "text": [
      "Selecting 8 Best Predictors for the Model\n",
      "Selected Predictors :  ['proximity_rep_coloc', 'proximity_rep_sci', 'proximity_rep_res', 'perc_latino_hispanic', 'perc_african_american', 'perc_unemployed', 'perc_graduated', 'perc_urban_pop']\n",
      "\n",
      "********************  R-Squared of Complete Model :  ********************\n",
      "R Squared : 0.9552789839613565\n",
      "\n",
      "Selecting 8 Best Predictors for the Model\n",
      "Selected Predictors :  ['proximity_rep_coloc', 'proximity_rep_sci', 'proximity_rep_res', 'perc_latino_hispanic', 'perc_african_american', 'perc_unemployed', 'perc_graduated', 'perc_urban_pop']\n",
      "\n",
      "Creating models for 255 possible combinations of 8 features :\n"
     ]
    },
    {
     "name": "stderr",
     "output_type": "stream",
     "text": [
      "100%|██████████| 8/8 [00:00<00:00,  9.24it/s]\n"
     ]
    },
    {
     "name": "stdout",
     "output_type": "stream",
     "text": [
      "#########################  Model Training Done!!!!!  #########################\n",
      "\n",
      "#########################  Calculating Variable Dominances  #########################\n"
     ]
    },
    {
     "name": "stderr",
     "output_type": "stream",
     "text": [
      "100%|██████████| 7/7 [00:00<00:00, 293.56it/s]"
     ]
    },
    {
     "name": "stdout",
     "output_type": "stream",
     "text": [
      "#########################  Variable Dominance Calculation Done!!!!!  #########################\n",
      "\n"
     ]
    },
    {
     "name": "stderr",
     "output_type": "stream",
     "text": [
      "\n"
     ]
    },
    {
     "data": {
      "text/plain": [
       "{'proximity_rep_coloc': 0.31121723205881324,\n",
       " 'proximity_rep_sci': 0.2007597319710606,\n",
       " 'proximity_rep_res': 0.2319922514184315,\n",
       " 'perc_latino_hispanic': 0.0147311260893644,\n",
       " 'perc_african_american': 0.03557688238860508,\n",
       " 'perc_unemployed': 0.015373946830387909,\n",
       " 'perc_graduated': 0.07475086888926569,\n",
       " 'perc_urban_pop': 0.07087694431542804}"
      ]
     },
     "execution_count": 12,
     "metadata": {},
     "output_type": "execute_result"
    }
   ],
   "source": [
    "dominance_rep_metro = Dominance(data=metro_rep, target='perc_nv_rep')\n",
    "dominance_rep_metro.incremental_rsquare()"
   ]
  },
  {
   "cell_type": "code",
   "execution_count": 13,
   "metadata": {},
   "outputs": [
    {
     "data": {
      "text/html": [
       "<div>\n",
       "<style scoped>\n",
       "    .dataframe tbody tr th:only-of-type {\n",
       "        vertical-align: middle;\n",
       "    }\n",
       "\n",
       "    .dataframe tbody tr th {\n",
       "        vertical-align: top;\n",
       "    }\n",
       "\n",
       "    .dataframe thead th {\n",
       "        text-align: right;\n",
       "    }\n",
       "</style>\n",
       "<table border=\"1\" class=\"dataframe\">\n",
       "  <thead>\n",
       "    <tr style=\"text-align: right;\">\n",
       "      <th></th>\n",
       "      <th>Interactional Dominance</th>\n",
       "      <th>Individual Dominance</th>\n",
       "      <th>Average Partial Dominance</th>\n",
       "      <th>Total Dominance</th>\n",
       "      <th>Percentage Relative Importance</th>\n",
       "    </tr>\n",
       "  </thead>\n",
       "  <tbody>\n",
       "    <tr>\n",
       "      <th>proximity_rep_coloc</th>\n",
       "      <td>0.052123</td>\n",
       "      <td>0.927305</td>\n",
       "      <td>0.251718</td>\n",
       "      <td>0.311217</td>\n",
       "      <td>32.578675</td>\n",
       "    </tr>\n",
       "    <tr>\n",
       "      <th>proximity_rep_res</th>\n",
       "      <td>0.011786</td>\n",
       "      <td>0.799454</td>\n",
       "      <td>0.174116</td>\n",
       "      <td>0.231992</td>\n",
       "      <td>24.285288</td>\n",
       "    </tr>\n",
       "    <tr>\n",
       "      <th>proximity_rep_sci</th>\n",
       "      <td>0.001519</td>\n",
       "      <td>0.726874</td>\n",
       "      <td>0.146281</td>\n",
       "      <td>0.20076</td>\n",
       "      <td>21.015822</td>\n",
       "    </tr>\n",
       "    <tr>\n",
       "      <th>perc_graduated</th>\n",
       "      <td>0.000827</td>\n",
       "      <td>0.297376</td>\n",
       "      <td>0.049967</td>\n",
       "      <td>0.074751</td>\n",
       "      <td>7.82503</td>\n",
       "    </tr>\n",
       "    <tr>\n",
       "      <th>perc_urban_pop</th>\n",
       "      <td>0.001369</td>\n",
       "      <td>0.326641</td>\n",
       "      <td>0.039834</td>\n",
       "      <td>0.070877</td>\n",
       "      <td>7.419502</td>\n",
       "    </tr>\n",
       "    <tr>\n",
       "      <th>perc_african_american</th>\n",
       "      <td>0.00166</td>\n",
       "      <td>0.145012</td>\n",
       "      <td>0.022990</td>\n",
       "      <td>0.035577</td>\n",
       "      <td>3.72424</td>\n",
       "    </tr>\n",
       "    <tr>\n",
       "      <th>perc_unemployed</th>\n",
       "      <td>0.000039</td>\n",
       "      <td>0.060931</td>\n",
       "      <td>0.010337</td>\n",
       "      <td>0.015374</td>\n",
       "      <td>1.609367</td>\n",
       "    </tr>\n",
       "    <tr>\n",
       "      <th>perc_latino_hispanic</th>\n",
       "      <td>0.0</td>\n",
       "      <td>0.060495</td>\n",
       "      <td>0.009559</td>\n",
       "      <td>0.014731</td>\n",
       "      <td>1.542076</td>\n",
       "    </tr>\n",
       "  </tbody>\n",
       "</table>\n",
       "</div>"
      ],
      "text/plain": [
       "                      Interactional Dominance Individual Dominance  \\\n",
       "proximity_rep_coloc                  0.052123             0.927305   \n",
       "proximity_rep_res                    0.011786             0.799454   \n",
       "proximity_rep_sci                    0.001519             0.726874   \n",
       "perc_graduated                       0.000827             0.297376   \n",
       "perc_urban_pop                       0.001369             0.326641   \n",
       "perc_african_american                 0.00166             0.145012   \n",
       "perc_unemployed                      0.000039             0.060931   \n",
       "perc_latino_hispanic                      0.0             0.060495   \n",
       "\n",
       "                       Average Partial Dominance Total Dominance  \\\n",
       "proximity_rep_coloc                     0.251718        0.311217   \n",
       "proximity_rep_res                       0.174116        0.231992   \n",
       "proximity_rep_sci                       0.146281         0.20076   \n",
       "perc_graduated                          0.049967        0.074751   \n",
       "perc_urban_pop                          0.039834        0.070877   \n",
       "perc_african_american                   0.022990        0.035577   \n",
       "perc_unemployed                         0.010337        0.015374   \n",
       "perc_latino_hispanic                    0.009559        0.014731   \n",
       "\n",
       "                      Percentage Relative Importance  \n",
       "proximity_rep_coloc                        32.578675  \n",
       "proximity_rep_res                          24.285288  \n",
       "proximity_rep_sci                          21.015822  \n",
       "perc_graduated                               7.82503  \n",
       "perc_urban_pop                              7.419502  \n",
       "perc_african_american                        3.72424  \n",
       "perc_unemployed                             1.609367  \n",
       "perc_latino_hispanic                        1.542076  "
      ]
     },
     "execution_count": 13,
     "metadata": {},
     "output_type": "execute_result"
    }
   ],
   "source": [
    "dominance_rep_metro.dominance_stats()"
   ]
  },
  {
   "cell_type": "code",
   "execution_count": 14,
   "metadata": {},
   "outputs": [
    {
     "name": "stdout",
     "output_type": "stream",
     "text": [
      "Selecting 8 Best Predictors for the Model\n",
      "Selected Predictors :  ['proximity_dem_coloc', 'proximity_dem_sci', 'proximity_dem_res', 'perc_latino_hispanic', 'perc_african_american', 'perc_unemployed', 'perc_graduated', 'perc_urban_pop']\n",
      "\n",
      "********************  R-Squared of Complete Model :  ********************\n",
      "R Squared : 0.9468252980459047\n",
      "\n",
      "Selecting 8 Best Predictors for the Model\n",
      "Selected Predictors :  ['proximity_dem_coloc', 'proximity_dem_sci', 'proximity_dem_res', 'perc_latino_hispanic', 'perc_african_american', 'perc_unemployed', 'perc_graduated', 'perc_urban_pop']\n",
      "\n",
      "Creating models for 255 possible combinations of 8 features :\n"
     ]
    },
    {
     "name": "stderr",
     "output_type": "stream",
     "text": [
      "100%|██████████| 8/8 [00:00<00:00,  9.88it/s]\n"
     ]
    },
    {
     "name": "stdout",
     "output_type": "stream",
     "text": [
      "#########################  Model Training Done!!!!!  #########################\n",
      "\n",
      "#########################  Calculating Variable Dominances  #########################\n"
     ]
    },
    {
     "name": "stderr",
     "output_type": "stream",
     "text": [
      "100%|██████████| 7/7 [00:00<00:00, 334.51it/s]"
     ]
    },
    {
     "name": "stdout",
     "output_type": "stream",
     "text": [
      "#########################  Variable Dominance Calculation Done!!!!!  #########################\n",
      "\n"
     ]
    },
    {
     "name": "stderr",
     "output_type": "stream",
     "text": [
      "\n"
     ]
    },
    {
     "data": {
      "text/plain": [
       "{'proximity_dem_coloc': 0.31164609140994254,\n",
       " 'proximity_dem_sci': 0.2201390531440771,\n",
       " 'proximity_dem_res': 0.19377989436122828,\n",
       " 'perc_latino_hispanic': 0.014920116698755252,\n",
       " 'perc_african_american': 0.04382807808373704,\n",
       " 'perc_unemployed': 0.017929508922236964,\n",
       " 'perc_graduated': 0.07241067985506186,\n",
       " 'perc_urban_pop': 0.07217187557086563}"
      ]
     },
     "execution_count": 14,
     "metadata": {},
     "output_type": "execute_result"
    }
   ],
   "source": [
    "dominance_dem_metro = Dominance(data=metro_dem, target='perc_nv_dem')\n",
    "dominance_dem_metro.incremental_rsquare()"
   ]
  },
  {
   "cell_type": "code",
   "execution_count": 15,
   "metadata": {},
   "outputs": [
    {
     "data": {
      "text/html": [
       "<div>\n",
       "<style scoped>\n",
       "    .dataframe tbody tr th:only-of-type {\n",
       "        vertical-align: middle;\n",
       "    }\n",
       "\n",
       "    .dataframe tbody tr th {\n",
       "        vertical-align: top;\n",
       "    }\n",
       "\n",
       "    .dataframe thead th {\n",
       "        text-align: right;\n",
       "    }\n",
       "</style>\n",
       "<table border=\"1\" class=\"dataframe\">\n",
       "  <thead>\n",
       "    <tr style=\"text-align: right;\">\n",
       "      <th></th>\n",
       "      <th>Interactional Dominance</th>\n",
       "      <th>Individual Dominance</th>\n",
       "      <th>Average Partial Dominance</th>\n",
       "      <th>Total Dominance</th>\n",
       "      <th>Percentage Relative Importance</th>\n",
       "    </tr>\n",
       "  </thead>\n",
       "  <tbody>\n",
       "    <tr>\n",
       "      <th>proximity_dem_coloc</th>\n",
       "      <td>0.051659</td>\n",
       "      <td>0.916374</td>\n",
       "      <td>0.254189</td>\n",
       "      <td>0.311646</td>\n",
       "      <td>32.914846</td>\n",
       "    </tr>\n",
       "    <tr>\n",
       "      <th>proximity_dem_sci</th>\n",
       "      <td>0.002985</td>\n",
       "      <td>0.762566</td>\n",
       "      <td>0.165927</td>\n",
       "      <td>0.220139</td>\n",
       "      <td>23.250229</td>\n",
       "    </tr>\n",
       "    <tr>\n",
       "      <th>proximity_dem_res</th>\n",
       "      <td>0.007668</td>\n",
       "      <td>0.693444</td>\n",
       "      <td>0.141521</td>\n",
       "      <td>0.19378</td>\n",
       "      <td>20.466278</td>\n",
       "    </tr>\n",
       "    <tr>\n",
       "      <th>perc_graduated</th>\n",
       "      <td>0.00087</td>\n",
       "      <td>0.270723</td>\n",
       "      <td>0.051282</td>\n",
       "      <td>0.072411</td>\n",
       "      <td>7.647734</td>\n",
       "    </tr>\n",
       "    <tr>\n",
       "      <th>perc_urban_pop</th>\n",
       "      <td>0.003701</td>\n",
       "      <td>0.31066</td>\n",
       "      <td>0.043836</td>\n",
       "      <td>0.072172</td>\n",
       "      <td>7.622512</td>\n",
       "    </tr>\n",
       "    <tr>\n",
       "      <th>perc_african_american</th>\n",
       "      <td>0.001767</td>\n",
       "      <td>0.180305</td>\n",
       "      <td>0.028092</td>\n",
       "      <td>0.043828</td>\n",
       "      <td>4.628951</td>\n",
       "    </tr>\n",
       "    <tr>\n",
       "      <th>perc_unemployed</th>\n",
       "      <td>0.000067</td>\n",
       "      <td>0.073395</td>\n",
       "      <td>0.011662</td>\n",
       "      <td>0.01793</td>\n",
       "      <td>1.893645</td>\n",
       "    </tr>\n",
       "    <tr>\n",
       "      <th>perc_latino_hispanic</th>\n",
       "      <td>0.000032</td>\n",
       "      <td>0.060556</td>\n",
       "      <td>0.009795</td>\n",
       "      <td>0.01492</td>\n",
       "      <td>1.575805</td>\n",
       "    </tr>\n",
       "  </tbody>\n",
       "</table>\n",
       "</div>"
      ],
      "text/plain": [
       "                      Interactional Dominance Individual Dominance  \\\n",
       "proximity_dem_coloc                  0.051659             0.916374   \n",
       "proximity_dem_sci                    0.002985             0.762566   \n",
       "proximity_dem_res                    0.007668             0.693444   \n",
       "perc_graduated                        0.00087             0.270723   \n",
       "perc_urban_pop                       0.003701              0.31066   \n",
       "perc_african_american                0.001767             0.180305   \n",
       "perc_unemployed                      0.000067             0.073395   \n",
       "perc_latino_hispanic                 0.000032             0.060556   \n",
       "\n",
       "                       Average Partial Dominance Total Dominance  \\\n",
       "proximity_dem_coloc                     0.254189        0.311646   \n",
       "proximity_dem_sci                       0.165927        0.220139   \n",
       "proximity_dem_res                       0.141521         0.19378   \n",
       "perc_graduated                          0.051282        0.072411   \n",
       "perc_urban_pop                          0.043836        0.072172   \n",
       "perc_african_american                   0.028092        0.043828   \n",
       "perc_unemployed                         0.011662         0.01793   \n",
       "perc_latino_hispanic                    0.009795         0.01492   \n",
       "\n",
       "                      Percentage Relative Importance  \n",
       "proximity_dem_coloc                        32.914846  \n",
       "proximity_dem_sci                          23.250229  \n",
       "proximity_dem_res                          20.466278  \n",
       "perc_graduated                              7.647734  \n",
       "perc_urban_pop                              7.622512  \n",
       "perc_african_american                       4.628951  \n",
       "perc_unemployed                             1.893645  \n",
       "perc_latino_hispanic                        1.575805  "
      ]
     },
     "execution_count": 15,
     "metadata": {},
     "output_type": "execute_result"
    }
   ],
   "source": [
    "dominance_dem_metro.dominance_stats()"
   ]
  },
  {
   "cell_type": "code",
   "execution_count": 16,
   "metadata": {},
   "outputs": [
    {
     "data": {
      "image/png": "[encoded data removed]",
      "text/plain": [
       "<Figure size 600x400 with 1 Axes>"
      ]
     },
     "metadata": {
      "image/png": {
       "height": 388,
       "width": 710
      }
     },
     "output_type": "display_data"
    }
   ],
   "source": [
    "list1 = [32.578675, 21.015822, 24.285288]\n",
    "list2 = [32.914846, 23.250229, 20.466278]\n",
    "index_values=['Offline Exposure', 'Online Exposure', 'Residential Exposure']\n",
    "\n",
    "# Reverse the order of values in each list\n",
    "list1 = list1[::-1]\n",
    "list2 = list2[::-1]\n",
    "index_values = index_values[::-1]\n",
    "\n",
    "# Calculate positions for the points\n",
    "positions_list1 = np.arange(len(index_values))\n",
    "positions_list2 = positions_list1 + 0.2  \n",
    "plt.figure(figsize=(6,4)) \n",
    "\n",
    "plt.scatter(list1, positions_list2, label='Exposure to Republican voters', color='crimson', marker='o', s=70, linewidth=1.5)\n",
    "plt.scatter(list2, positions_list1, label='Exposure to Democratic voters', color='royalblue', marker='o', s=70, linewidth=1.5)\n",
    "\n",
    "plt.grid(True, linestyle='--', alpha=0.2, axis='x')\n",
    "\n",
    "plt.xlim(7,40)\n",
    "\n",
    "plt.xlabel('Relative Importance (%)', size=18)\n",
    "plt.yticks(positions_list1 + 0.1, index_values, size=16)  \n",
    "plt.xticks(size=16)\n",
    "\n",
    "sns.despine()"
   ]
  },
  {
   "cell_type": "markdown",
   "metadata": {},
   "source": [
    "### NON-METRO"
   ]
  },
  {
   "cell_type": "code",
   "execution_count": 17,
   "metadata": {},
   "outputs": [
    {
     "name": "stdout",
     "output_type": "stream",
     "text": [
      "Selecting 8 Best Predictors for the Model\n",
      "Selected Predictors :  ['proximity_rep_coloc', 'proximity_rep_sci', 'proximity_rep_res', 'perc_latino_hispanic', 'perc_african_american', 'perc_unemployed', 'perc_graduated', 'perc_urban_pop']\n",
      "\n",
      "********************  R-Squared of Complete Model :  ********************\n",
      "R Squared : 0.9860247662053088\n",
      "\n",
      "Selecting 8 Best Predictors for the Model\n",
      "Selected Predictors :  ['proximity_rep_coloc', 'proximity_rep_sci', 'proximity_rep_res', 'perc_latino_hispanic', 'perc_african_american', 'perc_unemployed', 'perc_graduated', 'perc_urban_pop']\n",
      "\n",
      "Creating models for 255 possible combinations of 8 features :\n"
     ]
    },
    {
     "name": "stderr",
     "output_type": "stream",
     "text": [
      "100%|██████████| 8/8 [00:00<00:00, 10.17it/s]\n"
     ]
    },
    {
     "name": "stdout",
     "output_type": "stream",
     "text": [
      "#########################  Model Training Done!!!!!  #########################\n",
      "\n",
      "#########################  Calculating Variable Dominances  #########################\n"
     ]
    },
    {
     "name": "stderr",
     "output_type": "stream",
     "text": [
      "100%|██████████| 7/7 [00:00<00:00, 350.33it/s]"
     ]
    },
    {
     "name": "stdout",
     "output_type": "stream",
     "text": [
      "#########################  Variable Dominance Calculation Done!!!!!  #########################\n",
      "\n"
     ]
    },
    {
     "name": "stderr",
     "output_type": "stream",
     "text": [
      "\n"
     ]
    },
    {
     "data": {
      "text/plain": [
       "{'proximity_rep_coloc': 0.368723228605167,\n",
       " 'proximity_rep_sci': 0.3304850042136217,\n",
       " 'proximity_rep_res': 0.18346791247137273,\n",
       " 'perc_latino_hispanic': 0.0017404276610657765,\n",
       " 'perc_african_american': 0.04606071264245305,\n",
       " 'perc_unemployed': 0.02025667057591118,\n",
       " 'perc_graduated': 0.02365881554302384,\n",
       " 'perc_urban_pop': 0.011631994492693545}"
      ]
     },
     "execution_count": 17,
     "metadata": {},
     "output_type": "execute_result"
    }
   ],
   "source": [
    "dominance_rep_nonmetro = Dominance(data=nonmetro_rep, target='perc_nv_rep')\n",
    "dominance_rep_nonmetro.incremental_rsquare()"
   ]
  },
  {
   "cell_type": "code",
   "execution_count": 18,
   "metadata": {},
   "outputs": [
    {
     "data": {
      "text/html": [
       "<div>\n",
       "<style scoped>\n",
       "    .dataframe tbody tr th:only-of-type {\n",
       "        vertical-align: middle;\n",
       "    }\n",
       "\n",
       "    .dataframe tbody tr th {\n",
       "        vertical-align: top;\n",
       "    }\n",
       "\n",
       "    .dataframe thead th {\n",
       "        text-align: right;\n",
       "    }\n",
       "</style>\n",
       "<table border=\"1\" class=\"dataframe\">\n",
       "  <thead>\n",
       "    <tr style=\"text-align: right;\">\n",
       "      <th></th>\n",
       "      <th>Interactional Dominance</th>\n",
       "      <th>Individual Dominance</th>\n",
       "      <th>Average Partial Dominance</th>\n",
       "      <th>Total Dominance</th>\n",
       "      <th>Percentage Relative Importance</th>\n",
       "    </tr>\n",
       "  </thead>\n",
       "  <tbody>\n",
       "    <tr>\n",
       "      <th>proximity_rep_coloc</th>\n",
       "      <td>0.033474</td>\n",
       "      <td>0.982865</td>\n",
       "      <td>0.322241</td>\n",
       "      <td>0.368723</td>\n",
       "      <td>37.394926</td>\n",
       "    </tr>\n",
       "    <tr>\n",
       "      <th>proximity_rep_sci</th>\n",
       "      <td>0.001226</td>\n",
       "      <td>0.938518</td>\n",
       "      <td>0.284023</td>\n",
       "      <td>0.330485</td>\n",
       "      <td>33.516907</td>\n",
       "    </tr>\n",
       "    <tr>\n",
       "      <th>proximity_rep_res</th>\n",
       "      <td>0.000508</td>\n",
       "      <td>0.623425</td>\n",
       "      <td>0.140635</td>\n",
       "      <td>0.183468</td>\n",
       "      <td>18.606826</td>\n",
       "    </tr>\n",
       "    <tr>\n",
       "      <th>perc_african_american</th>\n",
       "      <td>0.000238</td>\n",
       "      <td>0.181181</td>\n",
       "      <td>0.031178</td>\n",
       "      <td>0.046061</td>\n",
       "      <td>4.671355</td>\n",
       "    </tr>\n",
       "    <tr>\n",
       "      <th>perc_graduated</th>\n",
       "      <td>0.000274</td>\n",
       "      <td>0.060213</td>\n",
       "      <td>0.021464</td>\n",
       "      <td>0.023659</td>\n",
       "      <td>2.399414</td>\n",
       "    </tr>\n",
       "    <tr>\n",
       "      <th>perc_unemployed</th>\n",
       "      <td>0.000004</td>\n",
       "      <td>0.084427</td>\n",
       "      <td>0.012937</td>\n",
       "      <td>0.020257</td>\n",
       "      <td>2.054377</td>\n",
       "    </tr>\n",
       "    <tr>\n",
       "      <th>perc_urban_pop</th>\n",
       "      <td>0.000158</td>\n",
       "      <td>0.049613</td>\n",
       "      <td>0.007214</td>\n",
       "      <td>0.011632</td>\n",
       "      <td>1.179686</td>\n",
       "    </tr>\n",
       "    <tr>\n",
       "      <th>perc_latino_hispanic</th>\n",
       "      <td>0.00009</td>\n",
       "      <td>0.003426</td>\n",
       "      <td>0.001735</td>\n",
       "      <td>0.00174</td>\n",
       "      <td>0.17651</td>\n",
       "    </tr>\n",
       "  </tbody>\n",
       "</table>\n",
       "</div>"
      ],
      "text/plain": [
       "                      Interactional Dominance Individual Dominance  \\\n",
       "proximity_rep_coloc                  0.033474             0.982865   \n",
       "proximity_rep_sci                    0.001226             0.938518   \n",
       "proximity_rep_res                    0.000508             0.623425   \n",
       "perc_african_american                0.000238             0.181181   \n",
       "perc_graduated                       0.000274             0.060213   \n",
       "perc_unemployed                      0.000004             0.084427   \n",
       "perc_urban_pop                       0.000158             0.049613   \n",
       "perc_latino_hispanic                  0.00009             0.003426   \n",
       "\n",
       "                       Average Partial Dominance Total Dominance  \\\n",
       "proximity_rep_coloc                     0.322241        0.368723   \n",
       "proximity_rep_sci                       0.284023        0.330485   \n",
       "proximity_rep_res                       0.140635        0.183468   \n",
       "perc_african_american                   0.031178        0.046061   \n",
       "perc_graduated                          0.021464        0.023659   \n",
       "perc_unemployed                         0.012937        0.020257   \n",
       "perc_urban_pop                          0.007214        0.011632   \n",
       "perc_latino_hispanic                    0.001735         0.00174   \n",
       "\n",
       "                      Percentage Relative Importance  \n",
       "proximity_rep_coloc                        37.394926  \n",
       "proximity_rep_sci                          33.516907  \n",
       "proximity_rep_res                          18.606826  \n",
       "perc_african_american                       4.671355  \n",
       "perc_graduated                              2.399414  \n",
       "perc_unemployed                             2.054377  \n",
       "perc_urban_pop                              1.179686  \n",
       "perc_latino_hispanic                         0.17651  "
      ]
     },
     "execution_count": 18,
     "metadata": {},
     "output_type": "execute_result"
    }
   ],
   "source": [
    "dominance_rep_nonmetro.dominance_stats()"
   ]
  },
  {
   "cell_type": "code",
   "execution_count": 19,
   "metadata": {},
   "outputs": [
    {
     "name": "stdout",
     "output_type": "stream",
     "text": [
      "Selecting 8 Best Predictors for the Model\n",
      "Selected Predictors :  ['proximity_dem_coloc', 'proximity_dem_sci', 'proximity_dem_res', 'perc_latino_hispanic', 'perc_african_american', 'perc_unemployed', 'perc_graduated', 'perc_urban_pop']\n",
      "\n",
      "********************  R-Squared of Complete Model :  ********************\n",
      "R Squared : 0.9868635200516247\n",
      "\n",
      "Selecting 8 Best Predictors for the Model\n",
      "Selected Predictors :  ['proximity_dem_coloc', 'proximity_dem_sci', 'proximity_dem_res', 'perc_latino_hispanic', 'perc_african_american', 'perc_unemployed', 'perc_graduated', 'perc_urban_pop']\n",
      "\n",
      "Creating models for 255 possible combinations of 8 features :\n"
     ]
    },
    {
     "name": "stderr",
     "output_type": "stream",
     "text": [
      "100%|██████████| 8/8 [00:00<00:00,  9.86it/s]\n"
     ]
    },
    {
     "name": "stdout",
     "output_type": "stream",
     "text": [
      "#########################  Model Training Done!!!!!  #########################\n",
      "\n",
      "#########################  Calculating Variable Dominances  #########################\n"
     ]
    },
    {
     "name": "stderr",
     "output_type": "stream",
     "text": [
      "100%|██████████| 7/7 [00:00<00:00, 340.10it/s]"
     ]
    },
    {
     "name": "stdout",
     "output_type": "stream",
     "text": [
      "#########################  Variable Dominance Calculation Done!!!!!  #########################\n",
      "\n"
     ]
    },
    {
     "name": "stderr",
     "output_type": "stream",
     "text": [
      "\n"
     ]
    },
    {
     "data": {
      "text/plain": [
       "{'proximity_dem_coloc': 0.3818737715051407,\n",
       " 'proximity_dem_sci': 0.3500927524946632,\n",
       " 'proximity_dem_res': 0.14048607203742824,\n",
       " 'perc_latino_hispanic': 0.001493191178696382,\n",
       " 'perc_african_american': 0.058081913511048036,\n",
       " 'perc_unemployed': 0.02306394523725655,\n",
       " 'perc_graduated': 0.019861759990634303,\n",
       " 'perc_urban_pop': 0.011910114096757312}"
      ]
     },
     "execution_count": 19,
     "metadata": {},
     "output_type": "execute_result"
    }
   ],
   "source": [
    "dominance_dem_nonmetro = Dominance(data=nonmetro_dem, target='perc_nv_dem')\n",
    "dominance_dem_nonmetro.incremental_rsquare()"
   ]
  },
  {
   "cell_type": "code",
   "execution_count": 20,
   "metadata": {},
   "outputs": [
    {
     "data": {
      "text/html": [
       "<div>\n",
       "<style scoped>\n",
       "    .dataframe tbody tr th:only-of-type {\n",
       "        vertical-align: middle;\n",
       "    }\n",
       "\n",
       "    .dataframe tbody tr th {\n",
       "        vertical-align: top;\n",
       "    }\n",
       "\n",
       "    .dataframe thead th {\n",
       "        text-align: right;\n",
       "    }\n",
       "</style>\n",
       "<table border=\"1\" class=\"dataframe\">\n",
       "  <thead>\n",
       "    <tr style=\"text-align: right;\">\n",
       "      <th></th>\n",
       "      <th>Interactional Dominance</th>\n",
       "      <th>Individual Dominance</th>\n",
       "      <th>Average Partial Dominance</th>\n",
       "      <th>Total Dominance</th>\n",
       "      <th>Percentage Relative Importance</th>\n",
       "    </tr>\n",
       "  </thead>\n",
       "  <tbody>\n",
       "    <tr>\n",
       "      <th>proximity_dem_coloc</th>\n",
       "      <td>0.027059</td>\n",
       "      <td>0.985177</td>\n",
       "      <td>0.340459</td>\n",
       "      <td>0.381874</td>\n",
       "      <td>38.695702</td>\n",
       "    </tr>\n",
       "    <tr>\n",
       "      <th>proximity_dem_sci</th>\n",
       "      <td>0.000725</td>\n",
       "      <td>0.9471</td>\n",
       "      <td>0.308820</td>\n",
       "      <td>0.350093</td>\n",
       "      <td>35.475296</td>\n",
       "    </tr>\n",
       "    <tr>\n",
       "      <th>proximity_dem_res</th>\n",
       "      <td>0.000244</td>\n",
       "      <td>0.497242</td>\n",
       "      <td>0.104400</td>\n",
       "      <td>0.140486</td>\n",
       "      <td>14.235613</td>\n",
       "    </tr>\n",
       "    <tr>\n",
       "      <th>perc_african_american</th>\n",
       "      <td>0.00012</td>\n",
       "      <td>0.229318</td>\n",
       "      <td>0.039203</td>\n",
       "      <td>0.058082</td>\n",
       "      <td>5.885506</td>\n",
       "    </tr>\n",
       "    <tr>\n",
       "      <th>perc_unemployed</th>\n",
       "      <td>0.000009</td>\n",
       "      <td>0.09863</td>\n",
       "      <td>0.014312</td>\n",
       "      <td>0.023064</td>\n",
       "      <td>2.337096</td>\n",
       "    </tr>\n",
       "    <tr>\n",
       "      <th>perc_graduated</th>\n",
       "      <td>0.000156</td>\n",
       "      <td>0.040722</td>\n",
       "      <td>0.019669</td>\n",
       "      <td>0.019862</td>\n",
       "      <td>2.012615</td>\n",
       "    </tr>\n",
       "    <tr>\n",
       "      <th>perc_urban_pop</th>\n",
       "      <td>0.000066</td>\n",
       "      <td>0.042312</td>\n",
       "      <td>0.008817</td>\n",
       "      <td>0.01191</td>\n",
       "      <td>1.206865</td>\n",
       "    </tr>\n",
       "    <tr>\n",
       "      <th>perc_latino_hispanic</th>\n",
       "      <td>0.000002</td>\n",
       "      <td>0.003612</td>\n",
       "      <td>0.001389</td>\n",
       "      <td>0.001493</td>\n",
       "      <td>0.151307</td>\n",
       "    </tr>\n",
       "  </tbody>\n",
       "</table>\n",
       "</div>"
      ],
      "text/plain": [
       "                      Interactional Dominance Individual Dominance  \\\n",
       "proximity_dem_coloc                  0.027059             0.985177   \n",
       "proximity_dem_sci                    0.000725               0.9471   \n",
       "proximity_dem_res                    0.000244             0.497242   \n",
       "perc_african_american                 0.00012             0.229318   \n",
       "perc_unemployed                      0.000009              0.09863   \n",
       "perc_graduated                       0.000156             0.040722   \n",
       "perc_urban_pop                       0.000066             0.042312   \n",
       "perc_latino_hispanic                 0.000002             0.003612   \n",
       "\n",
       "                       Average Partial Dominance Total Dominance  \\\n",
       "proximity_dem_coloc                     0.340459        0.381874   \n",
       "proximity_dem_sci                       0.308820        0.350093   \n",
       "proximity_dem_res                       0.104400        0.140486   \n",
       "perc_african_american                   0.039203        0.058082   \n",
       "perc_unemployed                         0.014312        0.023064   \n",
       "perc_graduated                          0.019669        0.019862   \n",
       "perc_urban_pop                          0.008817         0.01191   \n",
       "perc_latino_hispanic                    0.001389        0.001493   \n",
       "\n",
       "                      Percentage Relative Importance  \n",
       "proximity_dem_coloc                        38.695702  \n",
       "proximity_dem_sci                          35.475296  \n",
       "proximity_dem_res                          14.235613  \n",
       "perc_african_american                       5.885506  \n",
       "perc_unemployed                             2.337096  \n",
       "perc_graduated                              2.012615  \n",
       "perc_urban_pop                              1.206865  \n",
       "perc_latino_hispanic                        0.151307  "
      ]
     },
     "execution_count": 20,
     "metadata": {},
     "output_type": "execute_result"
    }
   ],
   "source": [
    "dominance_dem_nonmetro.dominance_stats()"
   ]
  },
  {
   "cell_type": "code",
   "execution_count": 21,
   "metadata": {},
   "outputs": [
    {
     "data": {
      "image/png": "[encoded data removed]",
      "text/plain": [
       "<Figure size 600x400 with 1 Axes>"
      ]
     },
     "metadata": {
      "image/png": {
       "height": 388,
       "width": 710
      }
     },
     "output_type": "display_data"
    }
   ],
   "source": [
    "list1 = [37.394926, 33.516907, 18.606826]\n",
    "list2 = [38.695702, 35.475296, 14.235613]\n",
    "index_values=['Offline Exposure', 'Online Exposure', 'Residential Exposure']\n",
    "\n",
    "# Reverse the order of values in each list\n",
    "list1 = list1[::-1]\n",
    "list2 = list2[::-1]\n",
    "index_values = index_values[::-1]\n",
    "\n",
    "# Calculate positions for the points\n",
    "positions_list1 = np.arange(len(index_values))\n",
    "positions_list2 = positions_list1 + 0.2  \n",
    "plt.figure(figsize=(6,4)) \n",
    "\n",
    "plt.scatter(list1, positions_list2, label='Exposure to Republican voters', color='crimson', marker='o', s=70, linewidth=1.5)\n",
    "plt.scatter(list2, positions_list1, label='Exposure to Democratic voters', color='royalblue', marker='o', s=70, linewidth=1.5)\n",
    "\n",
    "plt.grid(True, linestyle='--', alpha=0.2, axis='x')\n",
    "\n",
    "plt.xlim(7,40)\n",
    "\n",
    "plt.xlabel('Relative Importance (%)', size=18)\n",
    "plt.yticks(positions_list1 + 0.1, index_values, size=16)  \n",
    "plt.xticks(size=16)\n",
    "\n",
    "sns.despine()"
   ]
  },
  {
   "cell_type": "markdown",
   "metadata": {},
   "source": [
    "## SWING COUNTIES"
   ]
  },
  {
   "cell_type": "code",
   "execution_count": 22,
   "metadata": {},
   "outputs": [],
   "source": [
    "swing = df[df['n_swing'] > 0]\n",
    "noswing = df[df['n_swing'] == 0]\n",
    "\n",
    "swing_rep = swing[['proximity_rep_coloc', 'proximity_rep_sci', 'proximity_rep_res', 'perc_latino_hispanic', 'perc_african_american', 'perc_unemployed', 'perc_graduated', 'perc_urban_pop', 'perc_nv_rep']]\n",
    "swing_dem = swing[['proximity_dem_coloc', 'proximity_dem_sci', 'proximity_dem_res', 'perc_latino_hispanic', 'perc_african_american', 'perc_unemployed', 'perc_graduated', 'perc_urban_pop', 'perc_nv_dem']]\n",
    "\n",
    "noswing_rep = noswing[['proximity_rep_coloc', 'proximity_rep_sci', 'proximity_rep_res', 'perc_latino_hispanic', 'perc_african_american', 'perc_unemployed', 'perc_graduated', 'perc_urban_pop', 'perc_nv_rep']]\n",
    "noswing_dem = noswing[['proximity_dem_coloc', 'proximity_dem_sci', 'proximity_dem_res', 'perc_latino_hispanic', 'perc_african_american', 'perc_unemployed', 'perc_graduated', 'perc_urban_pop', 'perc_nv_dem']]"
   ]
  },
  {
   "cell_type": "markdown",
   "metadata": {},
   "source": [
    "### SWING"
   ]
  },
  {
   "cell_type": "code",
   "execution_count": 23,
   "metadata": {},
   "outputs": [
    {
     "name": "stdout",
     "output_type": "stream",
     "text": [
      "Selecting 8 Best Predictors for the Model\n",
      "Selected Predictors :  ['proximity_rep_coloc', 'proximity_rep_sci', 'proximity_rep_res', 'perc_latino_hispanic', 'perc_african_american', 'perc_unemployed', 'perc_graduated', 'perc_urban_pop']\n",
      "\n",
      "********************  R-Squared of Complete Model :  ********************\n",
      "R Squared : 0.6996638935395869\n",
      "\n",
      "Selecting 8 Best Predictors for the Model\n",
      "Selected Predictors :  ['proximity_rep_coloc', 'proximity_rep_sci', 'proximity_rep_res', 'perc_latino_hispanic', 'perc_african_american', 'perc_unemployed', 'perc_graduated', 'perc_urban_pop']\n",
      "\n",
      "Creating models for 255 possible combinations of 8 features :\n"
     ]
    },
    {
     "name": "stderr",
     "output_type": "stream",
     "text": [
      "100%|██████████| 8/8 [00:00<00:00,  9.86it/s]\n"
     ]
    },
    {
     "name": "stdout",
     "output_type": "stream",
     "text": [
      "#########################  Model Training Done!!!!!  #########################\n",
      "\n",
      "#########################  Calculating Variable Dominances  #########################\n"
     ]
    },
    {
     "name": "stderr",
     "output_type": "stream",
     "text": [
      "100%|██████████| 7/7 [00:00<00:00, 261.71it/s]"
     ]
    },
    {
     "name": "stdout",
     "output_type": "stream",
     "text": [
      "#########################  Variable Dominance Calculation Done!!!!!  #########################\n",
      "\n"
     ]
    },
    {
     "name": "stderr",
     "output_type": "stream",
     "text": [
      "\n"
     ]
    },
    {
     "data": {
      "text/plain": [
       "{'proximity_rep_coloc': 0.3406773040376796,\n",
       " 'proximity_rep_sci': 0.0924015470723657,\n",
       " 'proximity_rep_res': 0.0760882437609346,\n",
       " 'perc_latino_hispanic': 0.019561772373445738,\n",
       " 'perc_african_american': 0.003839273691589603,\n",
       " 'perc_unemployed': 0.009406565688337842,\n",
       " 'perc_graduated': 0.08490888909773917,\n",
       " 'perc_urban_pop': 0.0727802978174947}"
      ]
     },
     "execution_count": 23,
     "metadata": {},
     "output_type": "execute_result"
    }
   ],
   "source": [
    "dom_swing_rep = Dominance(data=swing_rep, target='perc_nv_rep')\n",
    "dom_swing_rep.incremental_rsquare()"
   ]
  },
  {
   "cell_type": "code",
   "execution_count": 24,
   "metadata": {},
   "outputs": [
    {
     "data": {
      "text/html": [
       "<div>\n",
       "<style scoped>\n",
       "    .dataframe tbody tr th:only-of-type {\n",
       "        vertical-align: middle;\n",
       "    }\n",
       "\n",
       "    .dataframe tbody tr th {\n",
       "        vertical-align: top;\n",
       "    }\n",
       "\n",
       "    .dataframe thead th {\n",
       "        text-align: right;\n",
       "    }\n",
       "</style>\n",
       "<table border=\"1\" class=\"dataframe\">\n",
       "  <thead>\n",
       "    <tr style=\"text-align: right;\">\n",
       "      <th></th>\n",
       "      <th>Interactional Dominance</th>\n",
       "      <th>Individual Dominance</th>\n",
       "      <th>Average Partial Dominance</th>\n",
       "      <th>Total Dominance</th>\n",
       "      <th>Percentage Relative Importance</th>\n",
       "    </tr>\n",
       "  </thead>\n",
       "  <tbody>\n",
       "    <tr>\n",
       "      <th>proximity_rep_coloc</th>\n",
       "      <td>0.138765</td>\n",
       "      <td>0.583793</td>\n",
       "      <td>0.333810</td>\n",
       "      <td>0.340677</td>\n",
       "      <td>48.691566</td>\n",
       "    </tr>\n",
       "    <tr>\n",
       "      <th>proximity_rep_sci</th>\n",
       "      <td>0.003156</td>\n",
       "      <td>0.159365</td>\n",
       "      <td>0.096115</td>\n",
       "      <td>0.092402</td>\n",
       "      <td>13.206562</td>\n",
       "    </tr>\n",
       "    <tr>\n",
       "      <th>perc_graduated</th>\n",
       "      <td>0.015808</td>\n",
       "      <td>0.161783</td>\n",
       "      <td>0.083613</td>\n",
       "      <td>0.084909</td>\n",
       "      <td>12.135668</td>\n",
       "    </tr>\n",
       "    <tr>\n",
       "      <th>proximity_rep_res</th>\n",
       "      <td>0.022102</td>\n",
       "      <td>0.166805</td>\n",
       "      <td>0.069966</td>\n",
       "      <td>0.076088</td>\n",
       "      <td>10.874971</td>\n",
       "    </tr>\n",
       "    <tr>\n",
       "      <th>perc_urban_pop</th>\n",
       "      <td>0.005507</td>\n",
       "      <td>0.166675</td>\n",
       "      <td>0.068344</td>\n",
       "      <td>0.07278</td>\n",
       "      <td>10.40218</td>\n",
       "    </tr>\n",
       "    <tr>\n",
       "      <th>perc_latino_hispanic</th>\n",
       "      <td>0.000267</td>\n",
       "      <td>0.055925</td>\n",
       "      <td>0.016717</td>\n",
       "      <td>0.019562</td>\n",
       "      <td>2.795881</td>\n",
       "    </tr>\n",
       "    <tr>\n",
       "      <th>perc_unemployed</th>\n",
       "      <td>0.001903</td>\n",
       "      <td>0.015739</td>\n",
       "      <td>0.009602</td>\n",
       "      <td>0.009407</td>\n",
       "      <td>1.344441</td>\n",
       "    </tr>\n",
       "    <tr>\n",
       "      <th>perc_african_american</th>\n",
       "      <td>0.000001</td>\n",
       "      <td>0.004028</td>\n",
       "      <td>0.004448</td>\n",
       "      <td>0.003839</td>\n",
       "      <td>0.548731</td>\n",
       "    </tr>\n",
       "  </tbody>\n",
       "</table>\n",
       "</div>"
      ],
      "text/plain": [
       "                      Interactional Dominance Individual Dominance  \\\n",
       "proximity_rep_coloc                  0.138765             0.583793   \n",
       "proximity_rep_sci                    0.003156             0.159365   \n",
       "perc_graduated                       0.015808             0.161783   \n",
       "proximity_rep_res                    0.022102             0.166805   \n",
       "perc_urban_pop                       0.005507             0.166675   \n",
       "perc_latino_hispanic                 0.000267             0.055925   \n",
       "perc_unemployed                      0.001903             0.015739   \n",
       "perc_african_american                0.000001             0.004028   \n",
       "\n",
       "                       Average Partial Dominance Total Dominance  \\\n",
       "proximity_rep_coloc                     0.333810        0.340677   \n",
       "proximity_rep_sci                       0.096115        0.092402   \n",
       "perc_graduated                          0.083613        0.084909   \n",
       "proximity_rep_res                       0.069966        0.076088   \n",
       "perc_urban_pop                          0.068344         0.07278   \n",
       "perc_latino_hispanic                    0.016717        0.019562   \n",
       "perc_unemployed                         0.009602        0.009407   \n",
       "perc_african_american                   0.004448        0.003839   \n",
       "\n",
       "                      Percentage Relative Importance  \n",
       "proximity_rep_coloc                        48.691566  \n",
       "proximity_rep_sci                          13.206562  \n",
       "perc_graduated                             12.135668  \n",
       "proximity_rep_res                          10.874971  \n",
       "perc_urban_pop                              10.40218  \n",
       "perc_latino_hispanic                        2.795881  \n",
       "perc_unemployed                             1.344441  \n",
       "perc_african_american                       0.548731  "
      ]
     },
     "execution_count": 24,
     "metadata": {},
     "output_type": "execute_result"
    }
   ],
   "source": [
    "dom_swing_rep.dominance_stats()"
   ]
  },
  {
   "cell_type": "code",
   "execution_count": 25,
   "metadata": {},
   "outputs": [
    {
     "name": "stdout",
     "output_type": "stream",
     "text": [
      "Selecting 8 Best Predictors for the Model\n",
      "Selected Predictors :  ['proximity_dem_coloc', 'proximity_dem_sci', 'proximity_dem_res', 'perc_latino_hispanic', 'perc_african_american', 'perc_unemployed', 'perc_graduated', 'perc_urban_pop']\n",
      "\n",
      "********************  R-Squared of Complete Model :  ********************\n",
      "R Squared : 0.739666749122587\n",
      "\n",
      "Selecting 8 Best Predictors for the Model\n",
      "Selected Predictors :  ['proximity_dem_coloc', 'proximity_dem_sci', 'proximity_dem_res', 'perc_latino_hispanic', 'perc_african_american', 'perc_unemployed', 'perc_graduated', 'perc_urban_pop']\n",
      "\n",
      "Creating models for 255 possible combinations of 8 features :\n"
     ]
    },
    {
     "name": "stderr",
     "output_type": "stream",
     "text": [
      "  0%|          | 0/8 [00:00<?, ?it/s]"
     ]
    },
    {
     "name": "stderr",
     "output_type": "stream",
     "text": [
      "100%|██████████| 8/8 [00:00<00:00,  9.53it/s]\n"
     ]
    },
    {
     "name": "stdout",
     "output_type": "stream",
     "text": [
      "#########################  Model Training Done!!!!!  #########################\n",
      "\n",
      "#########################  Calculating Variable Dominances  #########################\n"
     ]
    },
    {
     "name": "stderr",
     "output_type": "stream",
     "text": [
      "100%|██████████| 7/7 [00:00<00:00, 294.51it/s]"
     ]
    },
    {
     "name": "stdout",
     "output_type": "stream",
     "text": [
      "#########################  Variable Dominance Calculation Done!!!!!  #########################\n",
      "\n"
     ]
    },
    {
     "name": "stderr",
     "output_type": "stream",
     "text": [
      "\n"
     ]
    },
    {
     "data": {
      "text/plain": [
       "{'proximity_dem_coloc': 0.3391335645258179,\n",
       " 'proximity_dem_sci': 0.11738778774867929,\n",
       " 'proximity_dem_res': 0.07793567553823708,\n",
       " 'perc_latino_hispanic': 0.024404382826314734,\n",
       " 'perc_african_american': 0.037402030624329646,\n",
       " 'perc_unemployed': 0.01716451587117432,\n",
       " 'perc_graduated': 0.04902221686975621,\n",
       " 'perc_urban_pop': 0.07721657511827787}"
      ]
     },
     "execution_count": 25,
     "metadata": {},
     "output_type": "execute_result"
    }
   ],
   "source": [
    "dom_swing_dem = Dominance(data=swing_dem, target='perc_nv_dem')\n",
    "dom_swing_dem.incremental_rsquare()"
   ]
  },
  {
   "cell_type": "code",
   "execution_count": 26,
   "metadata": {},
   "outputs": [
    {
     "data": {
      "text/html": [
       "<div>\n",
       "<style scoped>\n",
       "    .dataframe tbody tr th:only-of-type {\n",
       "        vertical-align: middle;\n",
       "    }\n",
       "\n",
       "    .dataframe tbody tr th {\n",
       "        vertical-align: top;\n",
       "    }\n",
       "\n",
       "    .dataframe thead th {\n",
       "        text-align: right;\n",
       "    }\n",
       "</style>\n",
       "<table border=\"1\" class=\"dataframe\">\n",
       "  <thead>\n",
       "    <tr style=\"text-align: right;\">\n",
       "      <th></th>\n",
       "      <th>Interactional Dominance</th>\n",
       "      <th>Individual Dominance</th>\n",
       "      <th>Average Partial Dominance</th>\n",
       "      <th>Total Dominance</th>\n",
       "      <th>Percentage Relative Importance</th>\n",
       "    </tr>\n",
       "  </thead>\n",
       "  <tbody>\n",
       "    <tr>\n",
       "      <th>proximity_dem_coloc</th>\n",
       "      <td>0.145357</td>\n",
       "      <td>0.570683</td>\n",
       "      <td>0.332838</td>\n",
       "      <td>0.339134</td>\n",
       "      <td>45.849508</td>\n",
       "    </tr>\n",
       "    <tr>\n",
       "      <th>proximity_dem_sci</th>\n",
       "      <td>0.012766</td>\n",
       "      <td>0.205874</td>\n",
       "      <td>0.120077</td>\n",
       "      <td>0.117388</td>\n",
       "      <td>15.870362</td>\n",
       "    </tr>\n",
       "    <tr>\n",
       "      <th>proximity_dem_res</th>\n",
       "      <td>0.014357</td>\n",
       "      <td>0.207603</td>\n",
       "      <td>0.066921</td>\n",
       "      <td>0.077936</td>\n",
       "      <td>10.536593</td>\n",
       "    </tr>\n",
       "    <tr>\n",
       "      <th>perc_urban_pop</th>\n",
       "      <td>0.012073</td>\n",
       "      <td>0.114725</td>\n",
       "      <td>0.081823</td>\n",
       "      <td>0.077217</td>\n",
       "      <td>10.439374</td>\n",
       "    </tr>\n",
       "    <tr>\n",
       "      <th>perc_graduated</th>\n",
       "      <td>0.005612</td>\n",
       "      <td>0.062632</td>\n",
       "      <td>0.053989</td>\n",
       "      <td>0.049022</td>\n",
       "      <td>6.627609</td>\n",
       "    </tr>\n",
       "    <tr>\n",
       "      <th>perc_african_american</th>\n",
       "      <td>0.008931</td>\n",
       "      <td>0.093538</td>\n",
       "      <td>0.032791</td>\n",
       "      <td>0.037402</td>\n",
       "      <td>5.056606</td>\n",
       "    </tr>\n",
       "    <tr>\n",
       "      <th>perc_latino_hispanic</th>\n",
       "      <td>0.00075</td>\n",
       "      <td>0.066172</td>\n",
       "      <td>0.021385</td>\n",
       "      <td>0.024404</td>\n",
       "      <td>3.299375</td>\n",
       "    </tr>\n",
       "    <tr>\n",
       "      <th>perc_unemployed</th>\n",
       "      <td>0.00082</td>\n",
       "      <td>0.048664</td>\n",
       "      <td>0.014639</td>\n",
       "      <td>0.017165</td>\n",
       "      <td>2.320574</td>\n",
       "    </tr>\n",
       "  </tbody>\n",
       "</table>\n",
       "</div>"
      ],
      "text/plain": [
       "                      Interactional Dominance Individual Dominance  \\\n",
       "proximity_dem_coloc                  0.145357             0.570683   \n",
       "proximity_dem_sci                    0.012766             0.205874   \n",
       "proximity_dem_res                    0.014357             0.207603   \n",
       "perc_urban_pop                       0.012073             0.114725   \n",
       "perc_graduated                       0.005612             0.062632   \n",
       "perc_african_american                0.008931             0.093538   \n",
       "perc_latino_hispanic                  0.00075             0.066172   \n",
       "perc_unemployed                       0.00082             0.048664   \n",
       "\n",
       "                       Average Partial Dominance Total Dominance  \\\n",
       "proximity_dem_coloc                     0.332838        0.339134   \n",
       "proximity_dem_sci                       0.120077        0.117388   \n",
       "proximity_dem_res                       0.066921        0.077936   \n",
       "perc_urban_pop                          0.081823        0.077217   \n",
       "perc_graduated                          0.053989        0.049022   \n",
       "perc_african_american                   0.032791        0.037402   \n",
       "perc_latino_hispanic                    0.021385        0.024404   \n",
       "perc_unemployed                         0.014639        0.017165   \n",
       "\n",
       "                      Percentage Relative Importance  \n",
       "proximity_dem_coloc                        45.849508  \n",
       "proximity_dem_sci                          15.870362  \n",
       "proximity_dem_res                          10.536593  \n",
       "perc_urban_pop                             10.439374  \n",
       "perc_graduated                              6.627609  \n",
       "perc_african_american                       5.056606  \n",
       "perc_latino_hispanic                        3.299375  \n",
       "perc_unemployed                             2.320574  "
      ]
     },
     "execution_count": 26,
     "metadata": {},
     "output_type": "execute_result"
    }
   ],
   "source": [
    "dom_swing_dem.dominance_stats()"
   ]
  },
  {
   "cell_type": "code",
   "execution_count": 27,
   "metadata": {},
   "outputs": [
    {
     "data": {
      "image/png": "[encoded data removed]",
      "text/plain": [
       "<Figure size 600x400 with 1 Axes>"
      ]
     },
     "metadata": {
      "image/png": {
       "height": 388,
       "width": 699
      }
     },
     "output_type": "display_data"
    }
   ],
   "source": [
    "list1 = [48.691566, 13.206562, 10.874971]\n",
    "list2 = [45.849508, 15.870362, 10.536593]\n",
    "index_values=['Offline Exposure', 'Online Exposure', 'Residential Exposure']\n",
    "\n",
    "# Reverse the order of values in each list\n",
    "list1 = list1[::-1]\n",
    "list2 = list2[::-1]\n",
    "index_values = index_values[::-1]\n",
    "\n",
    "# Calculate positions for the points\n",
    "positions_list1 = np.arange(len(index_values))\n",
    "positions_list2 = positions_list1 + 0.2  \n",
    "plt.figure(figsize=(6,4)) \n",
    "\n",
    "plt.scatter(list1, positions_list2, label='Exposure to Republican voters', color='crimson', marker='o', s=70, linewidth=1.5)\n",
    "plt.scatter(list2, positions_list1, label='Exposure to Democratic voters', color='royalblue', marker='o', s=70, linewidth=1.5)\n",
    "\n",
    "plt.grid(True, linestyle='--', alpha=0.2, axis='x')\n",
    "\n",
    "plt.xlim(7,51)\n",
    "\n",
    "plt.xlabel('Relative Importance (%)', size=18)\n",
    "plt.yticks(positions_list1 + 0.1, index_values, size=16)  \n",
    "plt.xticks(size=16)\n",
    "\n",
    "sns.despine()"
   ]
  },
  {
   "cell_type": "markdown",
   "metadata": {},
   "source": [
    "### NON-SWING COUNTIES"
   ]
  },
  {
   "cell_type": "code",
   "execution_count": 28,
   "metadata": {},
   "outputs": [
    {
     "name": "stdout",
     "output_type": "stream",
     "text": [
      "Selecting 8 Best Predictors for the Model\n",
      "Selected Predictors :  ['proximity_rep_coloc', 'proximity_rep_sci', 'proximity_rep_res', 'perc_latino_hispanic', 'perc_african_american', 'perc_unemployed', 'perc_graduated', 'perc_urban_pop']\n",
      "\n",
      "********************  R-Squared of Complete Model :  ********************\n",
      "R Squared : 0.9713472557062149\n",
      "\n",
      "Selecting 8 Best Predictors for the Model\n",
      "Selected Predictors :  ['proximity_rep_coloc', 'proximity_rep_sci', 'proximity_rep_res', 'perc_latino_hispanic', 'perc_african_american', 'perc_unemployed', 'perc_graduated', 'perc_urban_pop']\n",
      "\n",
      "Creating models for 255 possible combinations of 8 features :\n"
     ]
    },
    {
     "name": "stderr",
     "output_type": "stream",
     "text": [
      "100%|██████████| 8/8 [00:00<00:00,  9.42it/s]\n"
     ]
    },
    {
     "name": "stdout",
     "output_type": "stream",
     "text": [
      "#########################  Model Training Done!!!!!  #########################\n",
      "\n",
      "#########################  Calculating Variable Dominances  #########################\n"
     ]
    },
    {
     "name": "stderr",
     "output_type": "stream",
     "text": [
      "100%|██████████| 7/7 [00:00<00:00, 304.37it/s]"
     ]
    },
    {
     "name": "stdout",
     "output_type": "stream",
     "text": [
      "#########################  Variable Dominance Calculation Done!!!!!  #########################\n",
      "\n"
     ]
    },
    {
     "name": "stderr",
     "output_type": "stream",
     "text": [
      "\n"
     ]
    },
    {
     "data": {
      "text/plain": [
       "{'proximity_rep_coloc': 0.3379028872568779,\n",
       " 'proximity_rep_sci': 0.26145994176078496,\n",
       " 'proximity_rep_res': 0.19157534964806838,\n",
       " 'perc_latino_hispanic': 0.005288651056415848,\n",
       " 'perc_african_american': 0.04955588363033887,\n",
       " 'perc_unemployed': 0.018260055500490875,\n",
       " 'perc_graduated': 0.059357763328619216,\n",
       " 'perc_urban_pop': 0.04794672352461891}"
      ]
     },
     "execution_count": 28,
     "metadata": {},
     "output_type": "execute_result"
    }
   ],
   "source": [
    "dom_noswing_rep = Dominance(data=noswing_rep, target='perc_nv_rep')\n",
    "dom_noswing_rep.incremental_rsquare()"
   ]
  },
  {
   "cell_type": "code",
   "execution_count": 29,
   "metadata": {},
   "outputs": [
    {
     "data": {
      "text/html": [
       "<div>\n",
       "<style scoped>\n",
       "    .dataframe tbody tr th:only-of-type {\n",
       "        vertical-align: middle;\n",
       "    }\n",
       "\n",
       "    .dataframe tbody tr th {\n",
       "        vertical-align: top;\n",
       "    }\n",
       "\n",
       "    .dataframe thead th {\n",
       "        text-align: right;\n",
       "    }\n",
       "</style>\n",
       "<table border=\"1\" class=\"dataframe\">\n",
       "  <thead>\n",
       "    <tr style=\"text-align: right;\">\n",
       "      <th></th>\n",
       "      <th>Interactional Dominance</th>\n",
       "      <th>Individual Dominance</th>\n",
       "      <th>Average Partial Dominance</th>\n",
       "      <th>Total Dominance</th>\n",
       "      <th>Percentage Relative Importance</th>\n",
       "    </tr>\n",
       "  </thead>\n",
       "  <tbody>\n",
       "    <tr>\n",
       "      <th>proximity_rep_coloc</th>\n",
       "      <td>0.053158</td>\n",
       "      <td>0.963089</td>\n",
       "      <td>0.281163</td>\n",
       "      <td>0.337903</td>\n",
       "      <td>34.787033</td>\n",
       "    </tr>\n",
       "    <tr>\n",
       "      <th>proximity_rep_sci</th>\n",
       "      <td>0.001412</td>\n",
       "      <td>0.854835</td>\n",
       "      <td>0.205905</td>\n",
       "      <td>0.26146</td>\n",
       "      <td>26.917247</td>\n",
       "    </tr>\n",
       "    <tr>\n",
       "      <th>proximity_rep_res</th>\n",
       "      <td>0.002478</td>\n",
       "      <td>0.698471</td>\n",
       "      <td>0.138609</td>\n",
       "      <td>0.191575</td>\n",
       "      <td>19.722643</td>\n",
       "    </tr>\n",
       "    <tr>\n",
       "      <th>perc_graduated</th>\n",
       "      <td>0.000554</td>\n",
       "      <td>0.220634</td>\n",
       "      <td>0.042279</td>\n",
       "      <td>0.059358</td>\n",
       "      <td>6.11087</td>\n",
       "    </tr>\n",
       "    <tr>\n",
       "      <th>perc_african_american</th>\n",
       "      <td>0.001072</td>\n",
       "      <td>0.204556</td>\n",
       "      <td>0.031803</td>\n",
       "      <td>0.049556</td>\n",
       "      <td>5.101768</td>\n",
       "    </tr>\n",
       "    <tr>\n",
       "      <th>perc_urban_pop</th>\n",
       "      <td>0.000302</td>\n",
       "      <td>0.222886</td>\n",
       "      <td>0.026731</td>\n",
       "      <td>0.047947</td>\n",
       "      <td>4.936105</td>\n",
       "    </tr>\n",
       "    <tr>\n",
       "      <th>perc_unemployed</th>\n",
       "      <td>0.00001</td>\n",
       "      <td>0.073077</td>\n",
       "      <td>0.012166</td>\n",
       "      <td>0.01826</td>\n",
       "      <td>1.879869</td>\n",
       "    </tr>\n",
       "    <tr>\n",
       "      <th>perc_latino_hispanic</th>\n",
       "      <td>0.000063</td>\n",
       "      <td>0.01865</td>\n",
       "      <td>0.003933</td>\n",
       "      <td>0.005289</td>\n",
       "      <td>0.544466</td>\n",
       "    </tr>\n",
       "  </tbody>\n",
       "</table>\n",
       "</div>"
      ],
      "text/plain": [
       "                      Interactional Dominance Individual Dominance  \\\n",
       "proximity_rep_coloc                  0.053158             0.963089   \n",
       "proximity_rep_sci                    0.001412             0.854835   \n",
       "proximity_rep_res                    0.002478             0.698471   \n",
       "perc_graduated                       0.000554             0.220634   \n",
       "perc_african_american                0.001072             0.204556   \n",
       "perc_urban_pop                       0.000302             0.222886   \n",
       "perc_unemployed                       0.00001             0.073077   \n",
       "perc_latino_hispanic                 0.000063              0.01865   \n",
       "\n",
       "                       Average Partial Dominance Total Dominance  \\\n",
       "proximity_rep_coloc                     0.281163        0.337903   \n",
       "proximity_rep_sci                       0.205905         0.26146   \n",
       "proximity_rep_res                       0.138609        0.191575   \n",
       "perc_graduated                          0.042279        0.059358   \n",
       "perc_african_american                   0.031803        0.049556   \n",
       "perc_urban_pop                          0.026731        0.047947   \n",
       "perc_unemployed                         0.012166         0.01826   \n",
       "perc_latino_hispanic                    0.003933        0.005289   \n",
       "\n",
       "                      Percentage Relative Importance  \n",
       "proximity_rep_coloc                        34.787033  \n",
       "proximity_rep_sci                          26.917247  \n",
       "proximity_rep_res                          19.722643  \n",
       "perc_graduated                               6.11087  \n",
       "perc_african_american                       5.101768  \n",
       "perc_urban_pop                              4.936105  \n",
       "perc_unemployed                             1.879869  \n",
       "perc_latino_hispanic                        0.544466  "
      ]
     },
     "execution_count": 29,
     "metadata": {},
     "output_type": "execute_result"
    }
   ],
   "source": [
    "dom_noswing_rep.dominance_stats()"
   ]
  },
  {
   "cell_type": "code",
   "execution_count": 30,
   "metadata": {},
   "outputs": [
    {
     "name": "stdout",
     "output_type": "stream",
     "text": [
      "Selecting 8 Best Predictors for the Model\n",
      "Selected Predictors :  ['proximity_dem_coloc', 'proximity_dem_sci', 'proximity_dem_res', 'perc_latino_hispanic', 'perc_african_american', 'perc_unemployed', 'perc_graduated', 'perc_urban_pop']\n",
      "\n",
      "********************  R-Squared of Complete Model :  ********************\n",
      "R Squared : 0.9684941476026853\n",
      "\n",
      "Selecting 8 Best Predictors for the Model\n",
      "Selected Predictors :  ['proximity_dem_coloc', 'proximity_dem_sci', 'proximity_dem_res', 'perc_latino_hispanic', 'perc_african_american', 'perc_unemployed', 'perc_graduated', 'perc_urban_pop']\n",
      "\n",
      "Creating models for 255 possible combinations of 8 features :\n"
     ]
    },
    {
     "name": "stderr",
     "output_type": "stream",
     "text": [
      "100%|██████████| 8/8 [00:00<00:00,  9.52it/s]\n"
     ]
    },
    {
     "name": "stdout",
     "output_type": "stream",
     "text": [
      "#########################  Model Training Done!!!!!  #########################\n",
      "\n",
      "#########################  Calculating Variable Dominances  #########################\n"
     ]
    },
    {
     "name": "stderr",
     "output_type": "stream",
     "text": [
      "100%|██████████| 7/7 [00:00<00:00, 303.14it/s]"
     ]
    },
    {
     "name": "stdout",
     "output_type": "stream",
     "text": [
      "#########################  Variable Dominance Calculation Done!!!!!  #########################\n",
      "\n"
     ]
    },
    {
     "name": "stderr",
     "output_type": "stream",
     "text": [
      "\n"
     ]
    },
    {
     "data": {
      "text/plain": [
       "{'proximity_dem_coloc': 0.3425950773293138,\n",
       " 'proximity_dem_sci': 0.2799077562371388,\n",
       " 'proximity_dem_res': 0.1540987075811635,\n",
       " 'perc_latino_hispanic': 0.0052928695160628855,\n",
       " 'perc_african_american': 0.05971943167519159,\n",
       " 'perc_unemployed': 0.020720710719969452,\n",
       " 'perc_graduated': 0.0563897069720537,\n",
       " 'perc_urban_pop': 0.04976988757179149}"
      ]
     },
     "execution_count": 30,
     "metadata": {},
     "output_type": "execute_result"
    }
   ],
   "source": [
    "dom_noswing_dem = Dominance(data=noswing_dem, target='perc_nv_dem')\n",
    "dom_noswing_dem.incremental_rsquare()"
   ]
  },
  {
   "cell_type": "code",
   "execution_count": 31,
   "metadata": {},
   "outputs": [
    {
     "data": {
      "text/html": [
       "<div>\n",
       "<style scoped>\n",
       "    .dataframe tbody tr th:only-of-type {\n",
       "        vertical-align: middle;\n",
       "    }\n",
       "\n",
       "    .dataframe tbody tr th {\n",
       "        vertical-align: top;\n",
       "    }\n",
       "\n",
       "    .dataframe thead th {\n",
       "        text-align: right;\n",
       "    }\n",
       "</style>\n",
       "<table border=\"1\" class=\"dataframe\">\n",
       "  <thead>\n",
       "    <tr style=\"text-align: right;\">\n",
       "      <th></th>\n",
       "      <th>Interactional Dominance</th>\n",
       "      <th>Individual Dominance</th>\n",
       "      <th>Average Partial Dominance</th>\n",
       "      <th>Total Dominance</th>\n",
       "      <th>Percentage Relative Importance</th>\n",
       "    </tr>\n",
       "  </thead>\n",
       "  <tbody>\n",
       "    <tr>\n",
       "      <th>proximity_dem_coloc</th>\n",
       "      <td>0.043518</td>\n",
       "      <td>0.9597</td>\n",
       "      <td>0.289591</td>\n",
       "      <td>0.342595</td>\n",
       "      <td>35.373996</td>\n",
       "    </tr>\n",
       "    <tr>\n",
       "      <th>proximity_dem_sci</th>\n",
       "      <td>0.001493</td>\n",
       "      <td>0.868723</td>\n",
       "      <td>0.228174</td>\n",
       "      <td>0.279908</td>\n",
       "      <td>28.901337</td>\n",
       "    </tr>\n",
       "    <tr>\n",
       "      <th>proximity_dem_res</th>\n",
       "      <td>0.001559</td>\n",
       "      <td>0.579722</td>\n",
       "      <td>0.108585</td>\n",
       "      <td>0.154099</td>\n",
       "      <td>15.911166</td>\n",
       "    </tr>\n",
       "    <tr>\n",
       "      <th>perc_african_american</th>\n",
       "      <td>0.00091</td>\n",
       "      <td>0.247411</td>\n",
       "      <td>0.038239</td>\n",
       "      <td>0.059719</td>\n",
       "      <td>6.166215</td>\n",
       "    </tr>\n",
       "    <tr>\n",
       "      <th>perc_graduated</th>\n",
       "      <td>0.000578</td>\n",
       "      <td>0.193054</td>\n",
       "      <td>0.042914</td>\n",
       "      <td>0.05639</td>\n",
       "      <td>5.822411</td>\n",
       "    </tr>\n",
       "    <tr>\n",
       "      <th>perc_urban_pop</th>\n",
       "      <td>0.000887</td>\n",
       "      <td>0.209296</td>\n",
       "      <td>0.031329</td>\n",
       "      <td>0.04977</td>\n",
       "      <td>5.138894</td>\n",
       "    </tr>\n",
       "    <tr>\n",
       "      <th>perc_unemployed</th>\n",
       "      <td>0.000004</td>\n",
       "      <td>0.085468</td>\n",
       "      <td>0.013382</td>\n",
       "      <td>0.020721</td>\n",
       "      <td>2.139477</td>\n",
       "    </tr>\n",
       "    <tr>\n",
       "      <th>perc_latino_hispanic</th>\n",
       "      <td>0.000001</td>\n",
       "      <td>0.018738</td>\n",
       "      <td>0.003934</td>\n",
       "      <td>0.005293</td>\n",
       "      <td>0.546505</td>\n",
       "    </tr>\n",
       "  </tbody>\n",
       "</table>\n",
       "</div>"
      ],
      "text/plain": [
       "                      Interactional Dominance Individual Dominance  \\\n",
       "proximity_dem_coloc                  0.043518               0.9597   \n",
       "proximity_dem_sci                    0.001493             0.868723   \n",
       "proximity_dem_res                    0.001559             0.579722   \n",
       "perc_african_american                 0.00091             0.247411   \n",
       "perc_graduated                       0.000578             0.193054   \n",
       "perc_urban_pop                       0.000887             0.209296   \n",
       "perc_unemployed                      0.000004             0.085468   \n",
       "perc_latino_hispanic                 0.000001             0.018738   \n",
       "\n",
       "                       Average Partial Dominance Total Dominance  \\\n",
       "proximity_dem_coloc                     0.289591        0.342595   \n",
       "proximity_dem_sci                       0.228174        0.279908   \n",
       "proximity_dem_res                       0.108585        0.154099   \n",
       "perc_african_american                   0.038239        0.059719   \n",
       "perc_graduated                          0.042914         0.05639   \n",
       "perc_urban_pop                          0.031329         0.04977   \n",
       "perc_unemployed                         0.013382        0.020721   \n",
       "perc_latino_hispanic                    0.003934        0.005293   \n",
       "\n",
       "                      Percentage Relative Importance  \n",
       "proximity_dem_coloc                        35.373996  \n",
       "proximity_dem_sci                          28.901337  \n",
       "proximity_dem_res                          15.911166  \n",
       "perc_african_american                       6.166215  \n",
       "perc_graduated                              5.822411  \n",
       "perc_urban_pop                              5.138894  \n",
       "perc_unemployed                             2.139477  \n",
       "perc_latino_hispanic                        0.546505  "
      ]
     },
     "execution_count": 31,
     "metadata": {},
     "output_type": "execute_result"
    }
   ],
   "source": [
    "dom_noswing_dem.dominance_stats()"
   ]
  },
  {
   "cell_type": "code",
   "execution_count": 32,
   "metadata": {},
   "outputs": [
    {
     "data": {
      "image/png": "[encoded data removed]",
      "text/plain": [
       "<Figure size 600x400 with 1 Axes>"
      ]
     },
     "metadata": {
      "image/png": {
       "height": 388,
       "width": 699
      }
     },
     "output_type": "display_data"
    }
   ],
   "source": [
    "list1 = [34.787033, 26.917247, 19.722643]\n",
    "list2 = [35.373996, 28.901337, 15.911166]\n",
    "index_values=['Offline Exposure', 'Online Exposure', 'Residential Exposure']\n",
    "\n",
    "# Reverse the order of values in each list\n",
    "list1 = list1[::-1]\n",
    "list2 = list2[::-1]\n",
    "index_values = index_values[::-1]\n",
    "\n",
    "# Calculate positions for the points\n",
    "positions_list1 = np.arange(len(index_values))\n",
    "positions_list2 = positions_list1 + 0.2  \n",
    "plt.figure(figsize=(6,4)) \n",
    "\n",
    "plt.scatter(list1, positions_list2, label='Exposure to Republican voters', color='crimson', marker='o', s=70, linewidth=1.5)\n",
    "plt.scatter(list2, positions_list1, label='Exposure to Democratic voters', color='royalblue', marker='o', s=70, linewidth=1.5)\n",
    "\n",
    "plt.grid(True, linestyle='--', alpha=0.2, axis='x')\n",
    "\n",
    "plt.xlim(7,51)\n",
    "\n",
    "plt.xlabel('Relative Importance (%)', size=18)\n",
    "plt.yticks(positions_list1 + 0.1, index_values, size=16)  \n",
    "plt.xticks(size=16)\n",
    "\n",
    "sns.despine()"
   ]
  },
  {
   "cell_type": "markdown",
   "metadata": {},
   "source": [
    "# ROBUSTNESS CHECK SWING 4 ELECTIONS"
   ]
  },
  {
   "cell_type": "code",
   "execution_count": 33,
   "metadata": {},
   "outputs": [],
   "source": [
    "swing08 = df[df['n_swing_0820'] > 0]\n",
    "noswing08 = df[df['n_swing_0820'] == 0]\n",
    "\n",
    "swing08_rep = swing08[['proximity_rep_coloc', 'proximity_rep_sci', 'proximity_rep_res', 'perc_latino_hispanic', 'perc_african_american', 'perc_unemployed', 'perc_graduated', 'perc_urban_pop', 'perc_nv_rep']]\n",
    "swing08_dem = swing08[['proximity_dem_coloc', 'proximity_dem_sci', 'proximity_dem_res', 'perc_latino_hispanic', 'perc_african_american', 'perc_unemployed', 'perc_graduated', 'perc_urban_pop', 'perc_nv_dem']]\n",
    "\n",
    "noswing08_rep = noswing08[['proximity_rep_coloc', 'proximity_rep_sci', 'proximity_rep_res', 'perc_latino_hispanic', 'perc_african_american', 'perc_unemployed', 'perc_graduated', 'perc_urban_pop', 'perc_nv_rep']]\n",
    "noswing08_dem = noswing08[['proximity_dem_coloc', 'proximity_dem_sci', 'proximity_dem_res', 'perc_latino_hispanic', 'perc_african_american', 'perc_unemployed', 'perc_graduated', 'perc_urban_pop', 'perc_nv_dem']]\n"
   ]
  },
  {
   "cell_type": "code",
   "execution_count": 34,
   "metadata": {},
   "outputs": [
    {
     "name": "stdout",
     "output_type": "stream",
     "text": [
      "Selecting 8 Best Predictors for the Model\n",
      "Selected Predictors :  ['proximity_rep_coloc', 'proximity_rep_sci', 'proximity_rep_res', 'perc_latino_hispanic', 'perc_african_american', 'perc_unemployed', 'perc_graduated', 'perc_urban_pop']\n",
      "\n",
      "********************  R-Squared of Complete Model :  ********************\n",
      "R Squared : 0.8623718994591927\n",
      "\n",
      "Selecting 8 Best Predictors for the Model\n",
      "Selected Predictors :  ['proximity_rep_coloc', 'proximity_rep_sci', 'proximity_rep_res', 'perc_latino_hispanic', 'perc_african_american', 'perc_unemployed', 'perc_graduated', 'perc_urban_pop']\n",
      "\n",
      "Creating models for 255 possible combinations of 8 features :\n"
     ]
    },
    {
     "name": "stderr",
     "output_type": "stream",
     "text": [
      "100%|██████████| 8/8 [00:00<00:00,  9.59it/s]\n"
     ]
    },
    {
     "name": "stdout",
     "output_type": "stream",
     "text": [
      "#########################  Model Training Done!!!!!  #########################\n",
      "\n",
      "#########################  Calculating Variable Dominances  #########################\n"
     ]
    },
    {
     "name": "stderr",
     "output_type": "stream",
     "text": [
      "100%|██████████| 7/7 [00:00<00:00, 353.98it/s]"
     ]
    },
    {
     "name": "stdout",
     "output_type": "stream",
     "text": [
      "#########################  Variable Dominance Calculation Done!!!!!  #########################\n",
      "\n"
     ]
    },
    {
     "name": "stderr",
     "output_type": "stream",
     "text": [
      "\n"
     ]
    },
    {
     "data": {
      "text/html": [
       "<div>\n",
       "<style scoped>\n",
       "    .dataframe tbody tr th:only-of-type {\n",
       "        vertical-align: middle;\n",
       "    }\n",
       "\n",
       "    .dataframe tbody tr th {\n",
       "        vertical-align: top;\n",
       "    }\n",
       "\n",
       "    .dataframe thead th {\n",
       "        text-align: right;\n",
       "    }\n",
       "</style>\n",
       "<table border=\"1\" class=\"dataframe\">\n",
       "  <thead>\n",
       "    <tr style=\"text-align: right;\">\n",
       "      <th></th>\n",
       "      <th>Interactional Dominance</th>\n",
       "      <th>Individual Dominance</th>\n",
       "      <th>Average Partial Dominance</th>\n",
       "      <th>Total Dominance</th>\n",
       "      <th>Percentage Relative Importance</th>\n",
       "    </tr>\n",
       "  </thead>\n",
       "  <tbody>\n",
       "    <tr>\n",
       "      <th>proximity_rep_coloc</th>\n",
       "      <td>0.100399</td>\n",
       "      <td>0.811005</td>\n",
       "      <td>0.369142</td>\n",
       "      <td>0.390782</td>\n",
       "      <td>45.314748</td>\n",
       "    </tr>\n",
       "    <tr>\n",
       "      <th>proximity_rep_sci</th>\n",
       "      <td>0.000085</td>\n",
       "      <td>0.495038</td>\n",
       "      <td>0.195217</td>\n",
       "      <td>0.208303</td>\n",
       "      <td>24.154696</td>\n",
       "    </tr>\n",
       "    <tr>\n",
       "      <th>perc_graduated</th>\n",
       "      <td>0.011212</td>\n",
       "      <td>0.221346</td>\n",
       "      <td>0.077352</td>\n",
       "      <td>0.087084</td>\n",
       "      <td>10.098198</td>\n",
       "    </tr>\n",
       "    <tr>\n",
       "      <th>proximity_rep_res</th>\n",
       "      <td>0.009409</td>\n",
       "      <td>0.211409</td>\n",
       "      <td>0.057803</td>\n",
       "      <td>0.070955</td>\n",
       "      <td>8.227833</td>\n",
       "    </tr>\n",
       "    <tr>\n",
       "      <th>perc_urban_pop</th>\n",
       "      <td>0.001645</td>\n",
       "      <td>0.184653</td>\n",
       "      <td>0.046978</td>\n",
       "      <td>0.058521</td>\n",
       "      <td>6.785994</td>\n",
       "    </tr>\n",
       "    <tr>\n",
       "      <th>perc_latino_hispanic</th>\n",
       "      <td>0.000746</td>\n",
       "      <td>0.081843</td>\n",
       "      <td>0.018029</td>\n",
       "      <td>0.023846</td>\n",
       "      <td>2.765108</td>\n",
       "    </tr>\n",
       "    <tr>\n",
       "      <th>perc_african_american</th>\n",
       "      <td>0.002395</td>\n",
       "      <td>0.057602</td>\n",
       "      <td>0.016871</td>\n",
       "      <td>0.020153</td>\n",
       "      <td>2.336948</td>\n",
       "    </tr>\n",
       "    <tr>\n",
       "      <th>perc_unemployed</th>\n",
       "      <td>0.000242</td>\n",
       "      <td>0.000032</td>\n",
       "      <td>0.003593</td>\n",
       "      <td>0.002729</td>\n",
       "      <td>0.316474</td>\n",
       "    </tr>\n",
       "  </tbody>\n",
       "</table>\n",
       "</div>"
      ],
      "text/plain": [
       "                      Interactional Dominance Individual Dominance  \\\n",
       "proximity_rep_coloc                  0.100399             0.811005   \n",
       "proximity_rep_sci                    0.000085             0.495038   \n",
       "perc_graduated                       0.011212             0.221346   \n",
       "proximity_rep_res                    0.009409             0.211409   \n",
       "perc_urban_pop                       0.001645             0.184653   \n",
       "perc_latino_hispanic                 0.000746             0.081843   \n",
       "perc_african_american                0.002395             0.057602   \n",
       "perc_unemployed                      0.000242             0.000032   \n",
       "\n",
       "                       Average Partial Dominance Total Dominance  \\\n",
       "proximity_rep_coloc                     0.369142        0.390782   \n",
       "proximity_rep_sci                       0.195217        0.208303   \n",
       "perc_graduated                          0.077352        0.087084   \n",
       "proximity_rep_res                       0.057803        0.070955   \n",
       "perc_urban_pop                          0.046978        0.058521   \n",
       "perc_latino_hispanic                    0.018029        0.023846   \n",
       "perc_african_american                   0.016871        0.020153   \n",
       "perc_unemployed                         0.003593        0.002729   \n",
       "\n",
       "                      Percentage Relative Importance  \n",
       "proximity_rep_coloc                        45.314748  \n",
       "proximity_rep_sci                          24.154696  \n",
       "perc_graduated                             10.098198  \n",
       "proximity_rep_res                           8.227833  \n",
       "perc_urban_pop                              6.785994  \n",
       "perc_latino_hispanic                        2.765108  \n",
       "perc_african_american                       2.336948  \n",
       "perc_unemployed                             0.316474  "
      ]
     },
     "execution_count": 34,
     "metadata": {},
     "output_type": "execute_result"
    }
   ],
   "source": [
    "dom_swing08_rep = Dominance(data=swing08_rep, target='perc_nv_rep')\n",
    "dom_swing08_rep.incremental_rsquare()\n",
    "dom_swing08_rep.dominance_stats()"
   ]
  },
  {
   "cell_type": "code",
   "execution_count": 35,
   "metadata": {},
   "outputs": [
    {
     "name": "stdout",
     "output_type": "stream",
     "text": [
      "Selecting 8 Best Predictors for the Model\n",
      "Selected Predictors :  ['proximity_dem_coloc', 'proximity_dem_sci', 'proximity_dem_res', 'perc_latino_hispanic', 'perc_african_american', 'perc_unemployed', 'perc_graduated', 'perc_urban_pop']\n",
      "\n",
      "********************  R-Squared of Complete Model :  ********************\n",
      "R Squared : 0.8862738214366661\n",
      "\n",
      "Selecting 8 Best Predictors for the Model\n",
      "Selected Predictors :  ['proximity_dem_coloc', 'proximity_dem_sci', 'proximity_dem_res', 'perc_latino_hispanic', 'perc_african_american', 'perc_unemployed', 'perc_graduated', 'perc_urban_pop']\n",
      "\n",
      "Creating models for 255 possible combinations of 8 features :\n"
     ]
    },
    {
     "name": "stderr",
     "output_type": "stream",
     "text": [
      "100%|██████████| 8/8 [00:00<00:00,  9.78it/s]\n"
     ]
    },
    {
     "name": "stdout",
     "output_type": "stream",
     "text": [
      "#########################  Model Training Done!!!!!  #########################\n",
      "\n",
      "#########################  Calculating Variable Dominances  #########################\n"
     ]
    },
    {
     "name": "stderr",
     "output_type": "stream",
     "text": [
      "100%|██████████| 7/7 [00:00<00:00, 252.39it/s]"
     ]
    },
    {
     "name": "stdout",
     "output_type": "stream",
     "text": [
      "#########################  Variable Dominance Calculation Done!!!!!  #########################\n",
      "\n"
     ]
    },
    {
     "name": "stderr",
     "output_type": "stream",
     "text": [
      "\n"
     ]
    },
    {
     "data": {
      "text/html": [
       "<div>\n",
       "<style scoped>\n",
       "    .dataframe tbody tr th:only-of-type {\n",
       "        vertical-align: middle;\n",
       "    }\n",
       "\n",
       "    .dataframe tbody tr th {\n",
       "        vertical-align: top;\n",
       "    }\n",
       "\n",
       "    .dataframe thead th {\n",
       "        text-align: right;\n",
       "    }\n",
       "</style>\n",
       "<table border=\"1\" class=\"dataframe\">\n",
       "  <thead>\n",
       "    <tr style=\"text-align: right;\">\n",
       "      <th></th>\n",
       "      <th>Interactional Dominance</th>\n",
       "      <th>Individual Dominance</th>\n",
       "      <th>Average Partial Dominance</th>\n",
       "      <th>Total Dominance</th>\n",
       "      <th>Percentage Relative Importance</th>\n",
       "    </tr>\n",
       "  </thead>\n",
       "  <tbody>\n",
       "    <tr>\n",
       "      <th>proximity_dem_coloc</th>\n",
       "      <td>0.114005</td>\n",
       "      <td>0.821753</td>\n",
       "      <td>0.397577</td>\n",
       "      <td>0.415152</td>\n",
       "      <td>46.842439</td>\n",
       "    </tr>\n",
       "    <tr>\n",
       "      <th>proximity_dem_sci</th>\n",
       "      <td>0.00462</td>\n",
       "      <td>0.486867</td>\n",
       "      <td>0.210011</td>\n",
       "      <td>0.218945</td>\n",
       "      <td>24.703936</td>\n",
       "    </tr>\n",
       "    <tr>\n",
       "      <th>perc_urban_pop</th>\n",
       "      <td>0.006365</td>\n",
       "      <td>0.160472</td>\n",
       "      <td>0.064432</td>\n",
       "      <td>0.069179</td>\n",
       "      <td>7.805563</td>\n",
       "    </tr>\n",
       "    <tr>\n",
       "      <th>perc_graduated</th>\n",
       "      <td>0.003132</td>\n",
       "      <td>0.152708</td>\n",
       "      <td>0.064023</td>\n",
       "      <td>0.067497</td>\n",
       "      <td>7.615846</td>\n",
       "    </tr>\n",
       "    <tr>\n",
       "      <th>perc_african_american</th>\n",
       "      <td>0.006749</td>\n",
       "      <td>0.132726</td>\n",
       "      <td>0.037090</td>\n",
       "      <td>0.045252</td>\n",
       "      <td>5.105887</td>\n",
       "    </tr>\n",
       "    <tr>\n",
       "      <th>proximity_dem_res</th>\n",
       "      <td>0.001503</td>\n",
       "      <td>0.144654</td>\n",
       "      <td>0.031335</td>\n",
       "      <td>0.041771</td>\n",
       "      <td>4.713104</td>\n",
       "    </tr>\n",
       "    <tr>\n",
       "      <th>perc_latino_hispanic</th>\n",
       "      <td>0.00019</td>\n",
       "      <td>0.086061</td>\n",
       "      <td>0.020629</td>\n",
       "      <td>0.026253</td>\n",
       "      <td>2.962187</td>\n",
       "    </tr>\n",
       "    <tr>\n",
       "      <th>perc_unemployed</th>\n",
       "      <td>0.000025</td>\n",
       "      <td>0.002066</td>\n",
       "      <td>0.002618</td>\n",
       "      <td>0.002225</td>\n",
       "      <td>0.251039</td>\n",
       "    </tr>\n",
       "  </tbody>\n",
       "</table>\n",
       "</div>"
      ],
      "text/plain": [
       "                      Interactional Dominance Individual Dominance  \\\n",
       "proximity_dem_coloc                  0.114005             0.821753   \n",
       "proximity_dem_sci                     0.00462             0.486867   \n",
       "perc_urban_pop                       0.006365             0.160472   \n",
       "perc_graduated                       0.003132             0.152708   \n",
       "perc_african_american                0.006749             0.132726   \n",
       "proximity_dem_res                    0.001503             0.144654   \n",
       "perc_latino_hispanic                  0.00019             0.086061   \n",
       "perc_unemployed                      0.000025             0.002066   \n",
       "\n",
       "                       Average Partial Dominance Total Dominance  \\\n",
       "proximity_dem_coloc                     0.397577        0.415152   \n",
       "proximity_dem_sci                       0.210011        0.218945   \n",
       "perc_urban_pop                          0.064432        0.069179   \n",
       "perc_graduated                          0.064023        0.067497   \n",
       "perc_african_american                   0.037090        0.045252   \n",
       "proximity_dem_res                       0.031335        0.041771   \n",
       "perc_latino_hispanic                    0.020629        0.026253   \n",
       "perc_unemployed                         0.002618        0.002225   \n",
       "\n",
       "                      Percentage Relative Importance  \n",
       "proximity_dem_coloc                        46.842439  \n",
       "proximity_dem_sci                          24.703936  \n",
       "perc_urban_pop                              7.805563  \n",
       "perc_graduated                              7.615846  \n",
       "perc_african_american                       5.105887  \n",
       "proximity_dem_res                           4.713104  \n",
       "perc_latino_hispanic                        2.962187  \n",
       "perc_unemployed                             0.251039  "
      ]
     },
     "execution_count": 35,
     "metadata": {},
     "output_type": "execute_result"
    }
   ],
   "source": [
    "dom_swing08_dem = Dominance(data=swing08_dem, target='perc_nv_dem')\n",
    "dom_swing08_dem.incremental_rsquare()\n",
    "dom_swing08_dem.dominance_stats()"
   ]
  },
  {
   "cell_type": "code",
   "execution_count": 36,
   "metadata": {},
   "outputs": [
    {
     "data": {
      "image/png": "[encoded data removed]",
      "text/plain": [
       "<Figure size 600x400 with 1 Axes>"
      ]
     },
     "metadata": {
      "image/png": {
       "height": 388,
       "width": 700
      }
     },
     "output_type": "display_data"
    }
   ],
   "source": [
    "list1 = [45.314748, 24.154696, 8.227833]\n",
    "list2 = [46.842439, 24.703936, 4.713104]\n",
    "index_values=['Offline Exposure', 'Online Exposure', 'Residential Exposure']\n",
    "\n",
    "# Reverse the order of values in each list\n",
    "list1 = list1[::-1]\n",
    "list2 = list2[::-1]\n",
    "index_values = index_values[::-1]\n",
    "\n",
    "# Calculate positions for the points\n",
    "positions_list1 = np.arange(len(index_values))\n",
    "positions_list2 = positions_list1 + 0.2  \n",
    "plt.figure(figsize=(6,4)) \n",
    "\n",
    "plt.scatter(list1, positions_list2, label='Exposure to Republican voters', color='crimson', marker='o', s=70, linewidth=1.5)\n",
    "plt.scatter(list2, positions_list1, label='Exposure to Democratic voters', color='royalblue', marker='o', s=70, linewidth=1.5)\n",
    "\n",
    "plt.grid(True, linestyle='--', alpha=0.2, axis='x')\n",
    "\n",
    "plt.xlim(0,51)\n",
    "\n",
    "plt.xlabel('Relative Importance (%)', size=18)\n",
    "plt.yticks(positions_list1 + 0.1, index_values, size=16)  \n",
    "plt.xticks(size=16)\n",
    "\n",
    "sns.despine()"
   ]
  },
  {
   "cell_type": "code",
   "execution_count": 37,
   "metadata": {},
   "outputs": [
    {
     "name": "stdout",
     "output_type": "stream",
     "text": [
      "Selecting 8 Best Predictors for the Model\n",
      "Selected Predictors :  ['proximity_rep_coloc', 'proximity_rep_sci', 'proximity_rep_res', 'perc_latino_hispanic', 'perc_african_american', 'perc_unemployed', 'perc_graduated', 'perc_urban_pop']\n",
      "\n",
      "********************  R-Squared of Complete Model :  ********************\n",
      "R Squared : 0.9722983831795996\n",
      "\n",
      "Selecting 8 Best Predictors for the Model\n",
      "Selected Predictors :  ['proximity_rep_coloc', 'proximity_rep_sci', 'proximity_rep_res', 'perc_latino_hispanic', 'perc_african_american', 'perc_unemployed', 'perc_graduated', 'perc_urban_pop']\n",
      "\n",
      "Creating models for 255 possible combinations of 8 features :\n"
     ]
    },
    {
     "name": "stderr",
     "output_type": "stream",
     "text": [
      "100%|██████████| 8/8 [00:00<00:00,  9.40it/s]\n"
     ]
    },
    {
     "name": "stdout",
     "output_type": "stream",
     "text": [
      "#########################  Model Training Done!!!!!  #########################\n",
      "\n",
      "#########################  Calculating Variable Dominances  #########################\n"
     ]
    },
    {
     "name": "stderr",
     "output_type": "stream",
     "text": [
      "100%|██████████| 7/7 [00:00<00:00, 344.98it/s]"
     ]
    },
    {
     "name": "stdout",
     "output_type": "stream",
     "text": [
      "#########################  Variable Dominance Calculation Done!!!!!  #########################\n",
      "\n"
     ]
    },
    {
     "name": "stderr",
     "output_type": "stream",
     "text": [
      "\n"
     ]
    },
    {
     "data": {
      "text/html": [
       "<div>\n",
       "<style scoped>\n",
       "    .dataframe tbody tr th:only-of-type {\n",
       "        vertical-align: middle;\n",
       "    }\n",
       "\n",
       "    .dataframe tbody tr th {\n",
       "        vertical-align: top;\n",
       "    }\n",
       "\n",
       "    .dataframe thead th {\n",
       "        text-align: right;\n",
       "    }\n",
       "</style>\n",
       "<table border=\"1\" class=\"dataframe\">\n",
       "  <thead>\n",
       "    <tr style=\"text-align: right;\">\n",
       "      <th></th>\n",
       "      <th>Interactional Dominance</th>\n",
       "      <th>Individual Dominance</th>\n",
       "      <th>Average Partial Dominance</th>\n",
       "      <th>Total Dominance</th>\n",
       "      <th>Percentage Relative Importance</th>\n",
       "    </tr>\n",
       "  </thead>\n",
       "  <tbody>\n",
       "    <tr>\n",
       "      <th>proximity_rep_coloc</th>\n",
       "      <td>0.052953</td>\n",
       "      <td>0.9643</td>\n",
       "      <td>0.274863</td>\n",
       "      <td>0.333304</td>\n",
       "      <td>34.280036</td>\n",
       "    </tr>\n",
       "    <tr>\n",
       "      <th>proximity_rep_sci</th>\n",
       "      <td>0.001578</td>\n",
       "      <td>0.857207</td>\n",
       "      <td>0.200106</td>\n",
       "      <td>0.257428</td>\n",
       "      <td>26.476213</td>\n",
       "    </tr>\n",
       "    <tr>\n",
       "      <th>proximity_rep_res</th>\n",
       "      <td>0.002284</td>\n",
       "      <td>0.711966</td>\n",
       "      <td>0.138097</td>\n",
       "      <td>0.192854</td>\n",
       "      <td>19.834902</td>\n",
       "    </tr>\n",
       "    <tr>\n",
       "      <th>perc_graduated</th>\n",
       "      <td>0.000499</td>\n",
       "      <td>0.22322</td>\n",
       "      <td>0.042721</td>\n",
       "      <td>0.060006</td>\n",
       "      <td>6.171544</td>\n",
       "    </tr>\n",
       "    <tr>\n",
       "      <th>perc_african_american</th>\n",
       "      <td>0.001118</td>\n",
       "      <td>0.219392</td>\n",
       "      <td>0.033965</td>\n",
       "      <td>0.053037</td>\n",
       "      <td>5.454839</td>\n",
       "    </tr>\n",
       "    <tr>\n",
       "      <th>perc_urban_pop</th>\n",
       "      <td>0.000309</td>\n",
       "      <td>0.230052</td>\n",
       "      <td>0.027220</td>\n",
       "      <td>0.04921</td>\n",
       "      <td>5.061186</td>\n",
       "    </tr>\n",
       "    <tr>\n",
       "      <th>perc_unemployed</th>\n",
       "      <td>0.000004</td>\n",
       "      <td>0.084855</td>\n",
       "      <td>0.013414</td>\n",
       "      <td>0.020668</td>\n",
       "      <td>2.125645</td>\n",
       "    </tr>\n",
       "    <tr>\n",
       "      <th>perc_latino_hispanic</th>\n",
       "      <td>0.000074</td>\n",
       "      <td>0.020272</td>\n",
       "      <td>0.004331</td>\n",
       "      <td>0.005791</td>\n",
       "      <td>0.595634</td>\n",
       "    </tr>\n",
       "  </tbody>\n",
       "</table>\n",
       "</div>"
      ],
      "text/plain": [
       "                      Interactional Dominance Individual Dominance  \\\n",
       "proximity_rep_coloc                  0.052953               0.9643   \n",
       "proximity_rep_sci                    0.001578             0.857207   \n",
       "proximity_rep_res                    0.002284             0.711966   \n",
       "perc_graduated                       0.000499              0.22322   \n",
       "perc_african_american                0.001118             0.219392   \n",
       "perc_urban_pop                       0.000309             0.230052   \n",
       "perc_unemployed                      0.000004             0.084855   \n",
       "perc_latino_hispanic                 0.000074             0.020272   \n",
       "\n",
       "                       Average Partial Dominance Total Dominance  \\\n",
       "proximity_rep_coloc                     0.274863        0.333304   \n",
       "proximity_rep_sci                       0.200106        0.257428   \n",
       "proximity_rep_res                       0.138097        0.192854   \n",
       "perc_graduated                          0.042721        0.060006   \n",
       "perc_african_american                   0.033965        0.053037   \n",
       "perc_urban_pop                          0.027220         0.04921   \n",
       "perc_unemployed                         0.013414        0.020668   \n",
       "perc_latino_hispanic                    0.004331        0.005791   \n",
       "\n",
       "                      Percentage Relative Importance  \n",
       "proximity_rep_coloc                        34.280036  \n",
       "proximity_rep_sci                          26.476213  \n",
       "proximity_rep_res                          19.834902  \n",
       "perc_graduated                              6.171544  \n",
       "perc_african_american                       5.454839  \n",
       "perc_urban_pop                              5.061186  \n",
       "perc_unemployed                             2.125645  \n",
       "perc_latino_hispanic                        0.595634  "
      ]
     },
     "execution_count": 37,
     "metadata": {},
     "output_type": "execute_result"
    }
   ],
   "source": [
    "dom_noswing08_rep = Dominance(data=noswing08_rep, target='perc_nv_rep')\n",
    "dom_noswing08_rep.incremental_rsquare()\n",
    "dom_noswing08_rep.dominance_stats()"
   ]
  },
  {
   "cell_type": "code",
   "execution_count": 38,
   "metadata": {},
   "outputs": [
    {
     "name": "stdout",
     "output_type": "stream",
     "text": [
      "Selecting 8 Best Predictors for the Model\n",
      "Selected Predictors :  ['proximity_dem_coloc', 'proximity_dem_sci', 'proximity_dem_res', 'perc_latino_hispanic', 'perc_african_american', 'perc_unemployed', 'perc_graduated', 'perc_urban_pop']\n",
      "\n",
      "********************  R-Squared of Complete Model :  ********************\n",
      "R Squared : 0.9692654504836035\n",
      "\n",
      "Selecting 8 Best Predictors for the Model\n",
      "Selected Predictors :  ['proximity_dem_coloc', 'proximity_dem_sci', 'proximity_dem_res', 'perc_latino_hispanic', 'perc_african_american', 'perc_unemployed', 'perc_graduated', 'perc_urban_pop']\n",
      "\n",
      "Creating models for 255 possible combinations of 8 features :\n"
     ]
    },
    {
     "name": "stderr",
     "output_type": "stream",
     "text": [
      "100%|██████████| 8/8 [00:00<00:00,  9.22it/s]\n"
     ]
    },
    {
     "name": "stdout",
     "output_type": "stream",
     "text": [
      "#########################  Model Training Done!!!!!  #########################\n",
      "\n",
      "#########################  Calculating Variable Dominances  #########################\n"
     ]
    },
    {
     "name": "stderr",
     "output_type": "stream",
     "text": [
      "100%|██████████| 7/7 [00:00<00:00, 369.37it/s]"
     ]
    },
    {
     "name": "stdout",
     "output_type": "stream",
     "text": [
      "#########################  Variable Dominance Calculation Done!!!!!  #########################\n",
      "\n"
     ]
    },
    {
     "name": "stderr",
     "output_type": "stream",
     "text": [
      "\n"
     ]
    },
    {
     "data": {
      "text/html": [
       "<div>\n",
       "<style scoped>\n",
       "    .dataframe tbody tr th:only-of-type {\n",
       "        vertical-align: middle;\n",
       "    }\n",
       "\n",
       "    .dataframe tbody tr th {\n",
       "        vertical-align: top;\n",
       "    }\n",
       "\n",
       "    .dataframe thead th {\n",
       "        text-align: right;\n",
       "    }\n",
       "</style>\n",
       "<table border=\"1\" class=\"dataframe\">\n",
       "  <thead>\n",
       "    <tr style=\"text-align: right;\">\n",
       "      <th></th>\n",
       "      <th>Interactional Dominance</th>\n",
       "      <th>Individual Dominance</th>\n",
       "      <th>Average Partial Dominance</th>\n",
       "      <th>Total Dominance</th>\n",
       "      <th>Percentage Relative Importance</th>\n",
       "    </tr>\n",
       "  </thead>\n",
       "  <tbody>\n",
       "    <tr>\n",
       "      <th>proximity_dem_coloc</th>\n",
       "      <td>0.042879</td>\n",
       "      <td>0.960258</td>\n",
       "      <td>0.280697</td>\n",
       "      <td>0.335915</td>\n",
       "      <td>34.656673</td>\n",
       "    </tr>\n",
       "    <tr>\n",
       "      <th>proximity_dem_sci</th>\n",
       "      <td>0.001633</td>\n",
       "      <td>0.871359</td>\n",
       "      <td>0.220470</td>\n",
       "      <td>0.274476</td>\n",
       "      <td>28.317969</td>\n",
       "    </tr>\n",
       "    <tr>\n",
       "      <th>proximity_dem_res</th>\n",
       "      <td>0.001634</td>\n",
       "      <td>0.602417</td>\n",
       "      <td>0.110727</td>\n",
       "      <td>0.158552</td>\n",
       "      <td>16.357942</td>\n",
       "    </tr>\n",
       "    <tr>\n",
       "      <th>perc_african_american</th>\n",
       "      <td>0.00111</td>\n",
       "      <td>0.262946</td>\n",
       "      <td>0.040566</td>\n",
       "      <td>0.063431</td>\n",
       "      <td>6.544265</td>\n",
       "    </tr>\n",
       "    <tr>\n",
       "      <th>perc_graduated</th>\n",
       "      <td>0.000686</td>\n",
       "      <td>0.195484</td>\n",
       "      <td>0.043354</td>\n",
       "      <td>0.057037</td>\n",
       "      <td>5.88452</td>\n",
       "    </tr>\n",
       "    <tr>\n",
       "      <th>perc_urban_pop</th>\n",
       "      <td>0.000795</td>\n",
       "      <td>0.215777</td>\n",
       "      <td>0.031459</td>\n",
       "      <td>0.050666</td>\n",
       "      <td>5.227245</td>\n",
       "    </tr>\n",
       "    <tr>\n",
       "      <th>perc_unemployed</th>\n",
       "      <td>0.000003</td>\n",
       "      <td>0.098061</td>\n",
       "      <td>0.014798</td>\n",
       "      <td>0.023357</td>\n",
       "      <td>2.409719</td>\n",
       "    </tr>\n",
       "    <tr>\n",
       "      <th>perc_latino_hispanic</th>\n",
       "      <td>0.000003</td>\n",
       "      <td>0.020318</td>\n",
       "      <td>0.004389</td>\n",
       "      <td>0.005832</td>\n",
       "      <td>0.601667</td>\n",
       "    </tr>\n",
       "  </tbody>\n",
       "</table>\n",
       "</div>"
      ],
      "text/plain": [
       "                      Interactional Dominance Individual Dominance  \\\n",
       "proximity_dem_coloc                  0.042879             0.960258   \n",
       "proximity_dem_sci                    0.001633             0.871359   \n",
       "proximity_dem_res                    0.001634             0.602417   \n",
       "perc_african_american                 0.00111             0.262946   \n",
       "perc_graduated                       0.000686             0.195484   \n",
       "perc_urban_pop                       0.000795             0.215777   \n",
       "perc_unemployed                      0.000003             0.098061   \n",
       "perc_latino_hispanic                 0.000003             0.020318   \n",
       "\n",
       "                       Average Partial Dominance Total Dominance  \\\n",
       "proximity_dem_coloc                     0.280697        0.335915   \n",
       "proximity_dem_sci                       0.220470        0.274476   \n",
       "proximity_dem_res                       0.110727        0.158552   \n",
       "perc_african_american                   0.040566        0.063431   \n",
       "perc_graduated                          0.043354        0.057037   \n",
       "perc_urban_pop                          0.031459        0.050666   \n",
       "perc_unemployed                         0.014798        0.023357   \n",
       "perc_latino_hispanic                    0.004389        0.005832   \n",
       "\n",
       "                      Percentage Relative Importance  \n",
       "proximity_dem_coloc                        34.656673  \n",
       "proximity_dem_sci                          28.317969  \n",
       "proximity_dem_res                          16.357942  \n",
       "perc_african_american                       6.544265  \n",
       "perc_graduated                               5.88452  \n",
       "perc_urban_pop                              5.227245  \n",
       "perc_unemployed                             2.409719  \n",
       "perc_latino_hispanic                        0.601667  "
      ]
     },
     "execution_count": 38,
     "metadata": {},
     "output_type": "execute_result"
    }
   ],
   "source": [
    "dom_noswing08_dem = Dominance(data=noswing08_dem, target='perc_nv_dem')\n",
    "dom_noswing08_dem.incremental_rsquare()\n",
    "dom_noswing08_dem.dominance_stats()"
   ]
  },
  {
   "cell_type": "code",
   "execution_count": 39,
   "metadata": {},
   "outputs": [
    {
     "data": {
      "image/png": "[encoded data removed]",
      "text/plain": [
       "<Figure size 600x400 with 1 Axes>"
      ]
     },
     "metadata": {
      "image/png": {
       "height": 388,
       "width": 700
      }
     },
     "output_type": "display_data"
    }
   ],
   "source": [
    "list1 = [34.280036, 26.476213, 19.834902]\n",
    "list2 = [34.656673, 28.317969, 16.357942]\n",
    "index_values=['Offline Exposure', 'Online Exposure', 'Residential Exposure']\n",
    "\n",
    "# Reverse the order of values in each list\n",
    "list1 = list1[::-1]\n",
    "list2 = list2[::-1]\n",
    "index_values = index_values[::-1]\n",
    "\n",
    "# Calculate positions for the points\n",
    "positions_list1 = np.arange(len(index_values))\n",
    "positions_list2 = positions_list1 + 0.2  \n",
    "plt.figure(figsize=(6,4)) \n",
    "\n",
    "plt.scatter(list1, positions_list2, label='Exposure to Republican voters', color='crimson', marker='o', s=70, linewidth=1.5)\n",
    "plt.scatter(list2, positions_list1, label='Exposure to Democratic voters', color='royalblue', marker='o', s=70, linewidth=1.5)\n",
    "\n",
    "plt.grid(True, linestyle='--', alpha=0.2, axis='x')\n",
    "\n",
    "plt.xlim(0,51)\n",
    "\n",
    "plt.xlabel('Relative Importance (%)', size=18)\n",
    "plt.yticks(positions_list1 + 0.1, index_values, size=16)  \n",
    "plt.xticks(size=16)\n",
    "\n",
    "sns.despine()"
   ]
  },
  {
   "cell_type": "markdown",
   "metadata": {},
   "source": [
    "# COMMUTING EXPOSURE"
   ]
  },
  {
   "cell_type": "code",
   "execution_count": 40,
   "metadata": {},
   "outputs": [],
   "source": [
    "df_rep_comm = df[['proximity_rep_coloc', 'proximity_rep_comm', 'perc_latino_hispanic', 'perc_african_american', 'perc_unemployed', 'perc_graduated', 'perc_urban_pop', 'perc_nv_rep']].dropna()\n",
    "\n",
    "df_dem_comm = df[['proximity_dem_coloc', 'proximity_dem_comm', 'perc_latino_hispanic', 'perc_african_american', 'perc_unemployed', 'perc_graduated', 'perc_urban_pop', 'perc_nv_dem']].dropna()"
   ]
  },
  {
   "cell_type": "code",
   "execution_count": 41,
   "metadata": {},
   "outputs": [
    {
     "name": "stdout",
     "output_type": "stream",
     "text": [
      "Selecting 7 Best Predictors for the Model\n",
      "Selected Predictors :  ['proximity_rep_coloc', 'proximity_rep_comm', 'perc_latino_hispanic', 'perc_african_american', 'perc_unemployed', 'perc_graduated', 'perc_urban_pop']\n",
      "\n",
      "********************  R-Squared of Complete Model :  ********************\n",
      "R Squared : 0.9665937470449149\n",
      "\n",
      "Selecting 7 Best Predictors for the Model\n",
      "Selected Predictors :  ['proximity_rep_coloc', 'proximity_rep_comm', 'perc_latino_hispanic', 'perc_african_american', 'perc_unemployed', 'perc_graduated', 'perc_urban_pop']\n",
      "\n",
      "Creating models for 127 possible combinations of 7 features :\n"
     ]
    },
    {
     "name": "stderr",
     "output_type": "stream",
     "text": [
      "100%|██████████| 7/7 [00:00<00:00, 15.40it/s]\n"
     ]
    },
    {
     "name": "stdout",
     "output_type": "stream",
     "text": [
      "#########################  Model Training Done!!!!!  #########################\n",
      "\n",
      "#########################  Calculating Variable Dominances  #########################\n"
     ]
    },
    {
     "name": "stderr",
     "output_type": "stream",
     "text": [
      "100%|██████████| 6/6 [00:00<00:00, 1626.43it/s]"
     ]
    },
    {
     "name": "stdout",
     "output_type": "stream",
     "text": [
      "#########################  Variable Dominance Calculation Done!!!!!  #########################\n",
      "\n"
     ]
    },
    {
     "name": "stderr",
     "output_type": "stream",
     "text": [
      "\n"
     ]
    },
    {
     "data": {
      "text/html": [
       "<div>\n",
       "<style scoped>\n",
       "    .dataframe tbody tr th:only-of-type {\n",
       "        vertical-align: middle;\n",
       "    }\n",
       "\n",
       "    .dataframe tbody tr th {\n",
       "        vertical-align: top;\n",
       "    }\n",
       "\n",
       "    .dataframe thead th {\n",
       "        text-align: right;\n",
       "    }\n",
       "</style>\n",
       "<table border=\"1\" class=\"dataframe\">\n",
       "  <thead>\n",
       "    <tr style=\"text-align: right;\">\n",
       "      <th></th>\n",
       "      <th>Interactional Dominance</th>\n",
       "      <th>Individual Dominance</th>\n",
       "      <th>Average Partial Dominance</th>\n",
       "      <th>Total Dominance</th>\n",
       "      <th>Percentage Relative Importance</th>\n",
       "    </tr>\n",
       "  </thead>\n",
       "  <tbody>\n",
       "    <tr>\n",
       "      <th>proximity_rep_coloc</th>\n",
       "      <td>0.02348</td>\n",
       "      <td>0.962702</td>\n",
       "      <td>0.356819</td>\n",
       "      <td>0.395754</td>\n",
       "      <td>40.943132</td>\n",
       "    </tr>\n",
       "    <tr>\n",
       "      <th>proximity_rep_comm</th>\n",
       "      <td>0.000041</td>\n",
       "      <td>0.931946</td>\n",
       "      <td>0.330123</td>\n",
       "      <td>0.368943</td>\n",
       "      <td>38.169379</td>\n",
       "    </tr>\n",
       "    <tr>\n",
       "      <th>perc_graduated</th>\n",
       "      <td>0.000799</td>\n",
       "      <td>0.20697</td>\n",
       "      <td>0.048604</td>\n",
       "      <td>0.064399</td>\n",
       "      <td>6.66242</td>\n",
       "    </tr>\n",
       "    <tr>\n",
       "      <th>perc_african_american</th>\n",
       "      <td>0.001542</td>\n",
       "      <td>0.177088</td>\n",
       "      <td>0.042838</td>\n",
       "      <td>0.056117</td>\n",
       "      <td>5.80564</td>\n",
       "    </tr>\n",
       "    <tr>\n",
       "      <th>perc_urban_pop</th>\n",
       "      <td>0.000532</td>\n",
       "      <td>0.211635</td>\n",
       "      <td>0.034702</td>\n",
       "      <td>0.055097</td>\n",
       "      <td>5.700094</td>\n",
       "    </tr>\n",
       "    <tr>\n",
       "      <th>perc_unemployed</th>\n",
       "      <td>0.000074</td>\n",
       "      <td>0.063017</td>\n",
       "      <td>0.016429</td>\n",
       "      <td>0.020748</td>\n",
       "      <td>2.146495</td>\n",
       "    </tr>\n",
       "    <tr>\n",
       "      <th>perc_latino_hispanic</th>\n",
       "      <td>0.00052</td>\n",
       "      <td>0.01708</td>\n",
       "      <td>0.004232</td>\n",
       "      <td>0.005537</td>\n",
       "      <td>0.57284</td>\n",
       "    </tr>\n",
       "  </tbody>\n",
       "</table>\n",
       "</div>"
      ],
      "text/plain": [
       "                      Interactional Dominance Individual Dominance  \\\n",
       "proximity_rep_coloc                   0.02348             0.962702   \n",
       "proximity_rep_comm                   0.000041             0.931946   \n",
       "perc_graduated                       0.000799              0.20697   \n",
       "perc_african_american                0.001542             0.177088   \n",
       "perc_urban_pop                       0.000532             0.211635   \n",
       "perc_unemployed                      0.000074             0.063017   \n",
       "perc_latino_hispanic                  0.00052              0.01708   \n",
       "\n",
       "                       Average Partial Dominance Total Dominance  \\\n",
       "proximity_rep_coloc                     0.356819        0.395754   \n",
       "proximity_rep_comm                      0.330123        0.368943   \n",
       "perc_graduated                          0.048604        0.064399   \n",
       "perc_african_american                   0.042838        0.056117   \n",
       "perc_urban_pop                          0.034702        0.055097   \n",
       "perc_unemployed                         0.016429        0.020748   \n",
       "perc_latino_hispanic                    0.004232        0.005537   \n",
       "\n",
       "                      Percentage Relative Importance  \n",
       "proximity_rep_coloc                        40.943132  \n",
       "proximity_rep_comm                         38.169379  \n",
       "perc_graduated                               6.66242  \n",
       "perc_african_american                        5.80564  \n",
       "perc_urban_pop                              5.700094  \n",
       "perc_unemployed                             2.146495  \n",
       "perc_latino_hispanic                         0.57284  "
      ]
     },
     "execution_count": 41,
     "metadata": {},
     "output_type": "execute_result"
    }
   ],
   "source": [
    "dominance_rep_comm = Dominance(data=df_rep_comm, target='perc_nv_rep')\n",
    "dominance_rep_comm.incremental_rsquare()\n",
    "dominance_rep_comm.dominance_stats()"
   ]
  },
  {
   "cell_type": "code",
   "execution_count": 42,
   "metadata": {},
   "outputs": [
    {
     "name": "stdout",
     "output_type": "stream",
     "text": [
      "Selecting 7 Best Predictors for the Model\n",
      "Selected Predictors :  ['proximity_dem_coloc', 'proximity_dem_comm', 'perc_latino_hispanic', 'perc_african_american', 'perc_unemployed', 'perc_graduated', 'perc_urban_pop']\n",
      "\n",
      "********************  R-Squared of Complete Model :  ********************\n",
      "R Squared : 0.9646333541986011\n",
      "\n",
      "Selecting 7 Best Predictors for the Model\n",
      "Selected Predictors :  ['proximity_dem_coloc', 'proximity_dem_comm', 'perc_latino_hispanic', 'perc_african_american', 'perc_unemployed', 'perc_graduated', 'perc_urban_pop']\n",
      "\n",
      "Creating models for 127 possible combinations of 7 features :\n"
     ]
    },
    {
     "name": "stderr",
     "output_type": "stream",
     "text": [
      "100%|██████████| 7/7 [00:00<00:00, 15.31it/s]\n"
     ]
    },
    {
     "name": "stdout",
     "output_type": "stream",
     "text": [
      "#########################  Model Training Done!!!!!  #########################\n",
      "\n",
      "#########################  Calculating Variable Dominances  #########################\n"
     ]
    },
    {
     "name": "stderr",
     "output_type": "stream",
     "text": [
      "100%|██████████| 6/6 [00:00<00:00, 754.01it/s]"
     ]
    },
    {
     "name": "stdout",
     "output_type": "stream",
     "text": [
      "#########################  Variable Dominance Calculation Done!!!!!  #########################\n",
      "\n"
     ]
    },
    {
     "name": "stderr",
     "output_type": "stream",
     "text": [
      "\n"
     ]
    },
    {
     "data": {
      "text/html": [
       "<div>\n",
       "<style scoped>\n",
       "    .dataframe tbody tr th:only-of-type {\n",
       "        vertical-align: middle;\n",
       "    }\n",
       "\n",
       "    .dataframe tbody tr th {\n",
       "        vertical-align: top;\n",
       "    }\n",
       "\n",
       "    .dataframe thead th {\n",
       "        text-align: right;\n",
       "    }\n",
       "</style>\n",
       "<table border=\"1\" class=\"dataframe\">\n",
       "  <thead>\n",
       "    <tr style=\"text-align: right;\">\n",
       "      <th></th>\n",
       "      <th>Interactional Dominance</th>\n",
       "      <th>Individual Dominance</th>\n",
       "      <th>Average Partial Dominance</th>\n",
       "      <th>Total Dominance</th>\n",
       "      <th>Percentage Relative Importance</th>\n",
       "    </tr>\n",
       "  </thead>\n",
       "  <tbody>\n",
       "    <tr>\n",
       "      <th>proximity_dem_coloc</th>\n",
       "      <td>0.023039</td>\n",
       "      <td>0.95901</td>\n",
       "      <td>0.351490</td>\n",
       "      <td>0.391357</td>\n",
       "      <td>40.570542</td>\n",
       "    </tr>\n",
       "    <tr>\n",
       "      <th>proximity_dem_comm</th>\n",
       "      <td>0.0</td>\n",
       "      <td>0.930383</td>\n",
       "      <td>0.325782</td>\n",
       "      <td>0.365613</td>\n",
       "      <td>37.901787</td>\n",
       "    </tr>\n",
       "    <tr>\n",
       "      <th>perc_african_american</th>\n",
       "      <td>0.001266</td>\n",
       "      <td>0.219189</td>\n",
       "      <td>0.052752</td>\n",
       "      <td>0.069174</td>\n",
       "      <td>7.170995</td>\n",
       "    </tr>\n",
       "    <tr>\n",
       "      <th>perc_graduated</th>\n",
       "      <td>0.000837</td>\n",
       "      <td>0.179621</td>\n",
       "      <td>0.043361</td>\n",
       "      <td>0.056752</td>\n",
       "      <td>5.883228</td>\n",
       "    </tr>\n",
       "    <tr>\n",
       "      <th>perc_urban_pop</th>\n",
       "      <td>0.001736</td>\n",
       "      <td>0.198261</td>\n",
       "      <td>0.033380</td>\n",
       "      <td>0.052414</td>\n",
       "      <td>5.433522</td>\n",
       "    </tr>\n",
       "    <tr>\n",
       "      <th>perc_unemployed</th>\n",
       "      <td>0.000067</td>\n",
       "      <td>0.074858</td>\n",
       "      <td>0.018242</td>\n",
       "      <td>0.023734</td>\n",
       "      <td>2.460386</td>\n",
       "    </tr>\n",
       "    <tr>\n",
       "      <th>perc_latino_hispanic</th>\n",
       "      <td>0.000085</td>\n",
       "      <td>0.017331</td>\n",
       "      <td>0.004343</td>\n",
       "      <td>0.00559</td>\n",
       "      <td>0.57954</td>\n",
       "    </tr>\n",
       "  </tbody>\n",
       "</table>\n",
       "</div>"
      ],
      "text/plain": [
       "                      Interactional Dominance Individual Dominance  \\\n",
       "proximity_dem_coloc                  0.023039              0.95901   \n",
       "proximity_dem_comm                        0.0             0.930383   \n",
       "perc_african_american                0.001266             0.219189   \n",
       "perc_graduated                       0.000837             0.179621   \n",
       "perc_urban_pop                       0.001736             0.198261   \n",
       "perc_unemployed                      0.000067             0.074858   \n",
       "perc_latino_hispanic                 0.000085             0.017331   \n",
       "\n",
       "                       Average Partial Dominance Total Dominance  \\\n",
       "proximity_dem_coloc                     0.351490        0.391357   \n",
       "proximity_dem_comm                      0.325782        0.365613   \n",
       "perc_african_american                   0.052752        0.069174   \n",
       "perc_graduated                          0.043361        0.056752   \n",
       "perc_urban_pop                          0.033380        0.052414   \n",
       "perc_unemployed                         0.018242        0.023734   \n",
       "perc_latino_hispanic                    0.004343         0.00559   \n",
       "\n",
       "                      Percentage Relative Importance  \n",
       "proximity_dem_coloc                        40.570542  \n",
       "proximity_dem_comm                         37.901787  \n",
       "perc_african_american                       7.170995  \n",
       "perc_graduated                              5.883228  \n",
       "perc_urban_pop                              5.433522  \n",
       "perc_unemployed                             2.460386  \n",
       "perc_latino_hispanic                         0.57954  "
      ]
     },
     "execution_count": 42,
     "metadata": {},
     "output_type": "execute_result"
    }
   ],
   "source": [
    "dominance_dem_comm = Dominance(data=df_dem_comm, target='perc_nv_dem')\n",
    "dominance_dem_comm.incremental_rsquare()\n",
    "dominance_dem_comm.dominance_stats()"
   ]
  },
  {
   "cell_type": "code",
   "execution_count": 43,
   "metadata": {},
   "outputs": [
    {
     "data": {
      "image/png": "[encoded data removed]",
      "text/plain": [
       "<Figure size 600x400 with 1 Axes>"
      ]
     },
     "metadata": {
      "image/png": {
       "height": 388,
       "width": 702
      }
     },
     "output_type": "display_data"
    }
   ],
   "source": [
    "list1 = [40.943132, 38.169379]\n",
    "list2 = [40.570542, 37.901787]\n",
    "index_values=['Offline Exposure', 'Commuting Exposure']\n",
    "\n",
    "# Reverse the order of values in each list\n",
    "list1 = list1[::-1]\n",
    "list2 = list2[::-1]\n",
    "index_values = index_values[::-1]\n",
    "\n",
    "# Calculate positions for the points\n",
    "positions_list1 = np.arange(len(index_values))\n",
    "positions_list2 = positions_list1 + 0.2  \n",
    "plt.figure(figsize=(6,4)) \n",
    "\n",
    "plt.scatter(list1, positions_list2, label='Exposure to Republican voters', color='crimson', marker='o', s=70, linewidth=1.5)\n",
    "plt.scatter(list2, positions_list1, label='Exposure to Democratic voters', color='royalblue', marker='o', s=70, linewidth=1.5)\n",
    "\n",
    "plt.grid(True, linestyle='--', alpha=0.2, axis='x')\n",
    "\n",
    "plt.xlim(20,51)\n",
    "\n",
    "plt.xlabel('Relative Importance (%)', size=18)\n",
    "plt.yticks(positions_list1 + 0.1, index_values, size=16)  \n",
    "plt.xticks(size=16)\n",
    "\n",
    "sns.despine()"
   ]
  },
  {
   "cell_type": "markdown",
   "metadata": {},
   "source": [
    "### ALL EXPOSURES"
   ]
  },
  {
   "cell_type": "code",
   "execution_count": 44,
   "metadata": {},
   "outputs": [],
   "source": [
    "df_rep_comm_all = df[['proximity_rep_coloc', 'proximity_rep_sci', 'proximity_rep_res', 'proximity_rep_comm', 'perc_latino_hispanic', 'perc_african_american', 'perc_unemployed', 'perc_graduated', 'perc_urban_pop', 'perc_nv_rep']].dropna()\n",
    "\n",
    "df_dem_comm_all = df[['proximity_dem_coloc', 'proximity_dem_sci', 'proximity_dem_res', 'proximity_dem_comm', 'perc_latino_hispanic', 'perc_african_american', 'perc_unemployed', 'perc_graduated', 'perc_urban_pop', 'perc_nv_dem']].dropna()"
   ]
  },
  {
   "cell_type": "code",
   "execution_count": 45,
   "metadata": {},
   "outputs": [
    {
     "name": "stdout",
     "output_type": "stream",
     "text": [
      "Selecting 9 Best Predictors for the Model\n",
      "Selected Predictors :  ['proximity_rep_coloc', 'proximity_rep_sci', 'proximity_rep_res', 'proximity_rep_comm', 'perc_latino_hispanic', 'perc_african_american', 'perc_unemployed', 'perc_graduated', 'perc_urban_pop']\n",
      "\n",
      "********************  R-Squared of Complete Model :  ********************\n",
      "R Squared : 0.9711713145893903\n",
      "\n",
      "Selecting 9 Best Predictors for the Model\n",
      "Selected Predictors :  ['proximity_rep_coloc', 'proximity_rep_sci', 'proximity_rep_res', 'proximity_rep_comm', 'perc_latino_hispanic', 'perc_african_american', 'perc_unemployed', 'perc_graduated', 'perc_urban_pop']\n",
      "\n",
      "Creating models for 511 possible combinations of 9 features :\n"
     ]
    },
    {
     "name": "stderr",
     "output_type": "stream",
     "text": [
      "100%|██████████| 9/9 [00:01<00:00,  4.83it/s]\n"
     ]
    },
    {
     "name": "stdout",
     "output_type": "stream",
     "text": [
      "#########################  Model Training Done!!!!!  #########################\n",
      "\n",
      "#########################  Calculating Variable Dominances  #########################\n"
     ]
    },
    {
     "name": "stderr",
     "output_type": "stream",
     "text": [
      "100%|██████████| 8/8 [00:00<00:00, 93.75it/s]"
     ]
    },
    {
     "name": "stdout",
     "output_type": "stream",
     "text": [
      "#########################  Variable Dominance Calculation Done!!!!!  #########################\n",
      "\n"
     ]
    },
    {
     "name": "stderr",
     "output_type": "stream",
     "text": [
      "\n"
     ]
    },
    {
     "data": {
      "text/html": [
       "<div>\n",
       "<style scoped>\n",
       "    .dataframe tbody tr th:only-of-type {\n",
       "        vertical-align: middle;\n",
       "    }\n",
       "\n",
       "    .dataframe tbody tr th {\n",
       "        vertical-align: top;\n",
       "    }\n",
       "\n",
       "    .dataframe thead th {\n",
       "        text-align: right;\n",
       "    }\n",
       "</style>\n",
       "<table border=\"1\" class=\"dataframe\">\n",
       "  <thead>\n",
       "    <tr style=\"text-align: right;\">\n",
       "      <th></th>\n",
       "      <th>Interactional Dominance</th>\n",
       "      <th>Individual Dominance</th>\n",
       "      <th>Average Partial Dominance</th>\n",
       "      <th>Total Dominance</th>\n",
       "      <th>Percentage Relative Importance</th>\n",
       "    </tr>\n",
       "  </thead>\n",
       "  <tbody>\n",
       "    <tr>\n",
       "      <th>proximity_rep_coloc</th>\n",
       "      <td>0.020545</td>\n",
       "      <td>0.962702</td>\n",
       "      <td>0.186332</td>\n",
       "      <td>0.254175</td>\n",
       "      <td>26.17196</td>\n",
       "    </tr>\n",
       "    <tr>\n",
       "      <th>proximity_rep_comm</th>\n",
       "      <td>0.0003</td>\n",
       "      <td>0.931946</td>\n",
       "      <td>0.161400</td>\n",
       "      <td>0.229117</td>\n",
       "      <td>23.591774</td>\n",
       "    </tr>\n",
       "    <tr>\n",
       "      <th>proximity_rep_sci</th>\n",
       "      <td>0.001613</td>\n",
       "      <td>0.853406</td>\n",
       "      <td>0.135055</td>\n",
       "      <td>0.200045</td>\n",
       "      <td>20.598325</td>\n",
       "    </tr>\n",
       "    <tr>\n",
       "      <th>proximity_rep_res</th>\n",
       "      <td>0.002468</td>\n",
       "      <td>0.697649</td>\n",
       "      <td>0.097064</td>\n",
       "      <td>0.153285</td>\n",
       "      <td>15.783504</td>\n",
       "    </tr>\n",
       "    <tr>\n",
       "      <th>perc_graduated</th>\n",
       "      <td>0.000462</td>\n",
       "      <td>0.20697</td>\n",
       "      <td>0.027305</td>\n",
       "      <td>0.044285</td>\n",
       "      <td>4.559962</td>\n",
       "    </tr>\n",
       "    <tr>\n",
       "      <th>perc_urban_pop</th>\n",
       "      <td>0.000334</td>\n",
       "      <td>0.211635</td>\n",
       "      <td>0.019205</td>\n",
       "      <td>0.03849</td>\n",
       "      <td>3.963212</td>\n",
       "    </tr>\n",
       "    <tr>\n",
       "      <th>perc_african_american</th>\n",
       "      <td>0.000862</td>\n",
       "      <td>0.177088</td>\n",
       "      <td>0.019570</td>\n",
       "      <td>0.034993</td>\n",
       "      <td>3.603222</td>\n",
       "    </tr>\n",
       "    <tr>\n",
       "      <th>perc_unemployed</th>\n",
       "      <td>0.000014</td>\n",
       "      <td>0.063017</td>\n",
       "      <td>0.007591</td>\n",
       "      <td>0.012907</td>\n",
       "      <td>1.329055</td>\n",
       "    </tr>\n",
       "    <tr>\n",
       "      <th>perc_latino_hispanic</th>\n",
       "      <td>0.000029</td>\n",
       "      <td>0.01708</td>\n",
       "      <td>0.002538</td>\n",
       "      <td>0.003875</td>\n",
       "      <td>0.398987</td>\n",
       "    </tr>\n",
       "  </tbody>\n",
       "</table>\n",
       "</div>"
      ],
      "text/plain": [
       "                      Interactional Dominance Individual Dominance  \\\n",
       "proximity_rep_coloc                  0.020545             0.962702   \n",
       "proximity_rep_comm                     0.0003             0.931946   \n",
       "proximity_rep_sci                    0.001613             0.853406   \n",
       "proximity_rep_res                    0.002468             0.697649   \n",
       "perc_graduated                       0.000462              0.20697   \n",
       "perc_urban_pop                       0.000334             0.211635   \n",
       "perc_african_american                0.000862             0.177088   \n",
       "perc_unemployed                      0.000014             0.063017   \n",
       "perc_latino_hispanic                 0.000029              0.01708   \n",
       "\n",
       "                       Average Partial Dominance Total Dominance  \\\n",
       "proximity_rep_coloc                     0.186332        0.254175   \n",
       "proximity_rep_comm                      0.161400        0.229117   \n",
       "proximity_rep_sci                       0.135055        0.200045   \n",
       "proximity_rep_res                       0.097064        0.153285   \n",
       "perc_graduated                          0.027305        0.044285   \n",
       "perc_urban_pop                          0.019205         0.03849   \n",
       "perc_african_american                   0.019570        0.034993   \n",
       "perc_unemployed                         0.007591        0.012907   \n",
       "perc_latino_hispanic                    0.002538        0.003875   \n",
       "\n",
       "                      Percentage Relative Importance  \n",
       "proximity_rep_coloc                         26.17196  \n",
       "proximity_rep_comm                         23.591774  \n",
       "proximity_rep_sci                          20.598325  \n",
       "proximity_rep_res                          15.783504  \n",
       "perc_graduated                              4.559962  \n",
       "perc_urban_pop                              3.963212  \n",
       "perc_african_american                       3.603222  \n",
       "perc_unemployed                             1.329055  \n",
       "perc_latino_hispanic                        0.398987  "
      ]
     },
     "execution_count": 45,
     "metadata": {},
     "output_type": "execute_result"
    }
   ],
   "source": [
    "dominance_rep_comm_all = Dominance(data=df_rep_comm_all, target='perc_nv_rep')\n",
    "dominance_rep_comm_all.incremental_rsquare()\n",
    "dominance_rep_comm_all.dominance_stats()"
   ]
  },
  {
   "cell_type": "code",
   "execution_count": 46,
   "metadata": {},
   "outputs": [
    {
     "name": "stdout",
     "output_type": "stream",
     "text": [
      "Selecting 9 Best Predictors for the Model\n",
      "Selected Predictors :  ['proximity_dem_coloc', 'proximity_dem_sci', 'proximity_dem_res', 'proximity_dem_comm', 'perc_latino_hispanic', 'perc_african_american', 'perc_unemployed', 'perc_graduated', 'perc_urban_pop']\n",
      "\n",
      "********************  R-Squared of Complete Model :  ********************\n",
      "R Squared : 0.9684579420252839\n",
      "\n",
      "Selecting 9 Best Predictors for the Model\n",
      "Selected Predictors :  ['proximity_dem_coloc', 'proximity_dem_sci', 'proximity_dem_res', 'proximity_dem_comm', 'perc_latino_hispanic', 'perc_african_american', 'perc_unemployed', 'perc_graduated', 'perc_urban_pop']\n",
      "\n",
      "Creating models for 511 possible combinations of 9 features :\n"
     ]
    },
    {
     "name": "stderr",
     "output_type": "stream",
     "text": [
      "100%|██████████| 9/9 [00:01<00:00,  4.81it/s]\n"
     ]
    },
    {
     "name": "stdout",
     "output_type": "stream",
     "text": [
      "#########################  Model Training Done!!!!!  #########################\n",
      "\n",
      "#########################  Calculating Variable Dominances  #########################\n"
     ]
    },
    {
     "name": "stderr",
     "output_type": "stream",
     "text": [
      "100%|██████████| 8/8 [00:00<00:00, 93.61it/s]"
     ]
    },
    {
     "name": "stdout",
     "output_type": "stream",
     "text": [
      "#########################  Variable Dominance Calculation Done!!!!!  #########################\n",
      "\n"
     ]
    },
    {
     "name": "stderr",
     "output_type": "stream",
     "text": [
      "\n"
     ]
    },
    {
     "data": {
      "text/html": [
       "<div>\n",
       "<style scoped>\n",
       "    .dataframe tbody tr th:only-of-type {\n",
       "        vertical-align: middle;\n",
       "    }\n",
       "\n",
       "    .dataframe tbody tr th {\n",
       "        vertical-align: top;\n",
       "    }\n",
       "\n",
       "    .dataframe thead th {\n",
       "        text-align: right;\n",
       "    }\n",
       "</style>\n",
       "<table border=\"1\" class=\"dataframe\">\n",
       "  <thead>\n",
       "    <tr style=\"text-align: right;\">\n",
       "      <th></th>\n",
       "      <th>Interactional Dominance</th>\n",
       "      <th>Individual Dominance</th>\n",
       "      <th>Average Partial Dominance</th>\n",
       "      <th>Total Dominance</th>\n",
       "      <th>Percentage Relative Importance</th>\n",
       "    </tr>\n",
       "  </thead>\n",
       "  <tbody>\n",
       "    <tr>\n",
       "      <th>proximity_dem_coloc</th>\n",
       "      <td>0.020344</td>\n",
       "      <td>0.95901</td>\n",
       "      <td>0.192265</td>\n",
       "      <td>0.258356</td>\n",
       "      <td>26.67709</td>\n",
       "    </tr>\n",
       "    <tr>\n",
       "      <th>proximity_dem_comm</th>\n",
       "      <td>0.000183</td>\n",
       "      <td>0.930383</td>\n",
       "      <td>0.167888</td>\n",
       "      <td>0.233976</td>\n",
       "      <td>24.159666</td>\n",
       "    </tr>\n",
       "    <tr>\n",
       "      <th>proximity_dem_sci</th>\n",
       "      <td>0.001774</td>\n",
       "      <td>0.864938</td>\n",
       "      <td>0.147705</td>\n",
       "      <td>0.211183</td>\n",
       "      <td>21.806092</td>\n",
       "    </tr>\n",
       "    <tr>\n",
       "      <th>proximity_dem_res</th>\n",
       "      <td>0.001593</td>\n",
       "      <td>0.570121</td>\n",
       "      <td>0.075455</td>\n",
       "      <td>0.122211</td>\n",
       "      <td>12.61917</td>\n",
       "    </tr>\n",
       "    <tr>\n",
       "      <th>perc_african_american</th>\n",
       "      <td>0.000834</td>\n",
       "      <td>0.219189</td>\n",
       "      <td>0.023897</td>\n",
       "      <td>0.043034</td>\n",
       "      <td>4.443513</td>\n",
       "    </tr>\n",
       "    <tr>\n",
       "      <th>perc_graduated</th>\n",
       "      <td>0.000482</td>\n",
       "      <td>0.179621</td>\n",
       "      <td>0.027598</td>\n",
       "      <td>0.041477</td>\n",
       "      <td>4.282771</td>\n",
       "    </tr>\n",
       "    <tr>\n",
       "      <th>perc_urban_pop</th>\n",
       "      <td>0.000856</td>\n",
       "      <td>0.198261</td>\n",
       "      <td>0.022310</td>\n",
       "      <td>0.039476</td>\n",
       "      <td>4.076222</td>\n",
       "    </tr>\n",
       "    <tr>\n",
       "      <th>perc_unemployed</th>\n",
       "      <td>0.000012</td>\n",
       "      <td>0.074858</td>\n",
       "      <td>0.008384</td>\n",
       "      <td>0.01484</td>\n",
       "      <td>1.532337</td>\n",
       "    </tr>\n",
       "    <tr>\n",
       "      <th>perc_latino_hispanic</th>\n",
       "      <td>0.000005</td>\n",
       "      <td>0.017331</td>\n",
       "      <td>0.002543</td>\n",
       "      <td>0.003904</td>\n",
       "      <td>0.40314</td>\n",
       "    </tr>\n",
       "  </tbody>\n",
       "</table>\n",
       "</div>"
      ],
      "text/plain": [
       "                      Interactional Dominance Individual Dominance  \\\n",
       "proximity_dem_coloc                  0.020344              0.95901   \n",
       "proximity_dem_comm                   0.000183             0.930383   \n",
       "proximity_dem_sci                    0.001774             0.864938   \n",
       "proximity_dem_res                    0.001593             0.570121   \n",
       "perc_african_american                0.000834             0.219189   \n",
       "perc_graduated                       0.000482             0.179621   \n",
       "perc_urban_pop                       0.000856             0.198261   \n",
       "perc_unemployed                      0.000012             0.074858   \n",
       "perc_latino_hispanic                 0.000005             0.017331   \n",
       "\n",
       "                       Average Partial Dominance Total Dominance  \\\n",
       "proximity_dem_coloc                     0.192265        0.258356   \n",
       "proximity_dem_comm                      0.167888        0.233976   \n",
       "proximity_dem_sci                       0.147705        0.211183   \n",
       "proximity_dem_res                       0.075455        0.122211   \n",
       "perc_african_american                   0.023897        0.043034   \n",
       "perc_graduated                          0.027598        0.041477   \n",
       "perc_urban_pop                          0.022310        0.039476   \n",
       "perc_unemployed                         0.008384         0.01484   \n",
       "perc_latino_hispanic                    0.002543        0.003904   \n",
       "\n",
       "                      Percentage Relative Importance  \n",
       "proximity_dem_coloc                         26.67709  \n",
       "proximity_dem_comm                         24.159666  \n",
       "proximity_dem_sci                          21.806092  \n",
       "proximity_dem_res                           12.61917  \n",
       "perc_african_american                       4.443513  \n",
       "perc_graduated                              4.282771  \n",
       "perc_urban_pop                              4.076222  \n",
       "perc_unemployed                             1.532337  \n",
       "perc_latino_hispanic                         0.40314  "
      ]
     },
     "execution_count": 46,
     "metadata": {},
     "output_type": "execute_result"
    }
   ],
   "source": [
    "dominance_dem_comm_all = Dominance(data=df_dem_comm_all, target='perc_nv_dem')\n",
    "dominance_dem_comm_all.incremental_rsquare()\n",
    "dominance_dem_comm_all.dominance_stats()"
   ]
  },
  {
   "cell_type": "code",
   "execution_count": 47,
   "metadata": {},
   "outputs": [
    {
     "data": {
      "image/png": "[encoded data removed]",
      "text/plain": [
       "<Figure size 600x400 with 1 Axes>"
      ]
     },
     "metadata": {
      "image/png": {
       "height": 388,
       "width": 714
      }
     },
     "output_type": "display_data"
    }
   ],
   "source": [
    "list1 = [26.17196, 20.598325, 15.783504, 23.591774]\n",
    "list2 = [26.67709, 21.806092, 12.61917, 24.159666]\n",
    "index_values=['Offline Exposure', 'Online Exposure', 'Residential Exposure','Commuting Exposure']\n",
    "\n",
    "list1 = list1[::-1]\n",
    "list2 = list2[::-1]\n",
    "index_values = index_values[::-1]\n",
    "\n",
    "positions_list1 = np.arange(len(index_values))\n",
    "positions_list2 = positions_list1 + 0.2 \n",
    "plt.figure(figsize=(6,4))  \n",
    "\n",
    "plt.scatter(list1, positions_list2, label='Exposure to Republican voters', color='crimson', marker='o', s=70, linewidth=1.5)\n",
    "plt.scatter(list2, positions_list1, label='Exposure to Democratic voters', color='royalblue', marker='o', s=70, linewidth=1.5)\n",
    "\n",
    "plt.grid(True, linestyle='--', alpha=0.2, axis='x')\n",
    "\n",
    "plt.xlim(0,30)\n",
    "plt.xlabel('Relative Importance (%)', size=18)\n",
    "plt.yticks(positions_list1 + 0.1, index_values, size=16)  \n",
    "plt.xticks(size=16)\n",
    "sns.despine()"
   ]
  }
 ],
 "metadata": {
  "kernelspec": {
   "display_name": "skmob",
   "language": "python",
   "name": "python3"
  },
  "language_info": {
   "codemirror_mode": {
    "name": "ipython",
    "version": 3
   },
   "file_extension": ".py",
   "mimetype": "text/x-python",
   "name": "python",
   "nbconvert_exporter": "python",
   "pygments_lexer": "ipython3",
   "version": "3.7.16"
  }
 },
 "nbformat": 4,
 "nbformat_minor": 2
}
